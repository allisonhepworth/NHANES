{
 "cells": [
  {
   "cell_type": "markdown",
   "metadata": {},
   "source": [
    "# Statistical Tests on NHANES datasets"
   ]
  },
  {
   "attachments": {},
   "cell_type": "markdown",
   "metadata": {},
   "source": [
    "### ANOVA Test"
   ]
  },
  {
   "attachments": {},
   "cell_type": "markdown",
   "metadata": {},
   "source": [
    "We have obtained a dataset from the NHANES P_BMX and P_ECQ datasets that consists of Body Mass Index (BMI) and the WHQ030E (Parent's perception about child's weight), each of them corresponding to the respondent (SEQN).\n",
    "Is there any evidence of a significant difference in BMI for children of different weight categories as per the parent's consideration?\n",
    "The significance level is 5%.\n",
    "\n",
    "To determine this, we are going to perform One-Way Anova test."
   ]
  },
  {
   "cell_type": "code",
   "execution_count": 2,
   "metadata": {},
   "outputs": [],
   "source": [
    "import pandas as pd\n",
    "import random\n",
    "import statsmodels.api as sm\n",
    "from statsmodels.formula.api import ols\n",
    "import scipy.stats as stats\n",
    "from scipy.stats import ttest_ind\n",
    "import duckdb as db\n",
    "import matplotlib.pyplot as plt\n",
    "import researchpy as rp"
   ]
  },
  {
   "attachments": {},
   "cell_type": "markdown",
   "metadata": {},
   "source": [
    "### Data Exploration and Preparation"
   ]
  },
  {
   "cell_type": "markdown",
   "metadata": {},
   "source": [
    "Import the Early Childhood data"
   ]
  },
  {
   "cell_type": "code",
   "execution_count": 3,
   "metadata": {},
   "outputs": [],
   "source": [
    "df_ECQ = pd.read_sas(\n",
    "    '/Users/soumyadeepray/Library/Mobile Documents/com~apple~CloudDocs/Documents/Research_Project-Nutrition_Sciences/NHANES/data/P_ECQ.XPT')"
   ]
  },
  {
   "cell_type": "markdown",
   "metadata": {},
   "source": [
    "Fill null values with 9.0"
   ]
  },
  {
   "cell_type": "code",
   "execution_count": 4,
   "metadata": {},
   "outputs": [],
   "source": [
    "df_ECQ['WHQ030E'] = df_ECQ['WHQ030E'].fillna(9.0)"
   ]
  },
  {
   "cell_type": "markdown",
   "metadata": {},
   "source": [
    "Frequency of each of the categories in `WHQ030E` column"
   ]
  },
  {
   "cell_type": "code",
   "execution_count": 5,
   "metadata": {},
   "outputs": [
    {
     "data": {
      "text/plain": [
       "WHQ030E\n",
       "1.0     532\n",
       "2.0     296\n",
       "3.0    3549\n",
       "9.0     988\n",
       "dtype: int64"
      ]
     },
     "execution_count": 5,
     "metadata": {},
     "output_type": "execute_result"
    }
   ],
   "source": [
    "df_ECQ.groupby('WHQ030E').size()"
   ]
  },
  {
   "attachments": {},
   "cell_type": "markdown",
   "metadata": {},
   "source": [
    "So, we have 4 groups in our independent variable. We need to remove the rows of the group 9.0 as it represents the repondents without a valid category."
   ]
  },
  {
   "cell_type": "code",
   "execution_count": 6,
   "metadata": {},
   "outputs": [],
   "source": [
    "df_ECQ.drop( df_ECQ[df_ECQ['WHQ030E']== 9.0].index, inplace=True)"
   ]
  },
  {
   "cell_type": "markdown",
   "metadata": {},
   "source": [
    "Encoding the `WHQ030E` column with the descriptions of each of the eating occasions"
   ]
  },
  {
   "cell_type": "code",
   "execution_count": 7,
   "metadata": {},
   "outputs": [],
   "source": [
    "df_ECQ['WHQ030E'] = df_ECQ['WHQ030E'].map({1.0 : 'Overweight',\n",
    "                                    2.0 : 'Underweight',\n",
    "                                    3.0 : 'Normal weight'})"
   ]
  },
  {
   "cell_type": "markdown",
   "metadata": {},
   "source": [
    "Import the Body Measures data"
   ]
  },
  {
   "cell_type": "code",
   "execution_count": 8,
   "metadata": {},
   "outputs": [
    {
     "data": {
      "text/html": [
       "<div>\n",
       "<style scoped>\n",
       "    .dataframe tbody tr th:only-of-type {\n",
       "        vertical-align: middle;\n",
       "    }\n",
       "\n",
       "    .dataframe tbody tr th {\n",
       "        vertical-align: top;\n",
       "    }\n",
       "\n",
       "    .dataframe thead th {\n",
       "        text-align: right;\n",
       "    }\n",
       "</style>\n",
       "<table border=\"1\" class=\"dataframe\">\n",
       "  <thead>\n",
       "    <tr style=\"text-align: right;\">\n",
       "      <th></th>\n",
       "      <th>SEQN</th>\n",
       "      <th>BMDSTATS</th>\n",
       "      <th>BMXWT</th>\n",
       "      <th>BMIWT</th>\n",
       "      <th>BMXRECUM</th>\n",
       "      <th>BMIRECUM</th>\n",
       "      <th>BMXHEAD</th>\n",
       "      <th>BMIHEAD</th>\n",
       "      <th>BMXHT</th>\n",
       "      <th>BMIHT</th>\n",
       "      <th>...</th>\n",
       "      <th>BMXLEG</th>\n",
       "      <th>BMILEG</th>\n",
       "      <th>BMXARML</th>\n",
       "      <th>BMIARML</th>\n",
       "      <th>BMXARMC</th>\n",
       "      <th>BMIARMC</th>\n",
       "      <th>BMXWAIST</th>\n",
       "      <th>BMIWAIST</th>\n",
       "      <th>BMXHIP</th>\n",
       "      <th>BMIHIP</th>\n",
       "    </tr>\n",
       "  </thead>\n",
       "  <tbody>\n",
       "    <tr>\n",
       "      <th>0</th>\n",
       "      <td>109263.0</td>\n",
       "      <td>4.0</td>\n",
       "      <td>NaN</td>\n",
       "      <td>NaN</td>\n",
       "      <td>NaN</td>\n",
       "      <td>NaN</td>\n",
       "      <td>NaN</td>\n",
       "      <td>NaN</td>\n",
       "      <td>NaN</td>\n",
       "      <td>NaN</td>\n",
       "      <td>...</td>\n",
       "      <td>NaN</td>\n",
       "      <td>NaN</td>\n",
       "      <td>NaN</td>\n",
       "      <td>NaN</td>\n",
       "      <td>NaN</td>\n",
       "      <td>NaN</td>\n",
       "      <td>NaN</td>\n",
       "      <td>NaN</td>\n",
       "      <td>NaN</td>\n",
       "      <td>NaN</td>\n",
       "    </tr>\n",
       "    <tr>\n",
       "      <th>1</th>\n",
       "      <td>109264.0</td>\n",
       "      <td>1.0</td>\n",
       "      <td>42.2</td>\n",
       "      <td>NaN</td>\n",
       "      <td>NaN</td>\n",
       "      <td>NaN</td>\n",
       "      <td>NaN</td>\n",
       "      <td>NaN</td>\n",
       "      <td>154.7</td>\n",
       "      <td>NaN</td>\n",
       "      <td>...</td>\n",
       "      <td>36.3</td>\n",
       "      <td>NaN</td>\n",
       "      <td>33.8</td>\n",
       "      <td>NaN</td>\n",
       "      <td>22.7</td>\n",
       "      <td>NaN</td>\n",
       "      <td>63.8</td>\n",
       "      <td>NaN</td>\n",
       "      <td>85.0</td>\n",
       "      <td>NaN</td>\n",
       "    </tr>\n",
       "    <tr>\n",
       "      <th>2</th>\n",
       "      <td>109265.0</td>\n",
       "      <td>1.0</td>\n",
       "      <td>12.0</td>\n",
       "      <td>NaN</td>\n",
       "      <td>91.6</td>\n",
       "      <td>NaN</td>\n",
       "      <td>NaN</td>\n",
       "      <td>NaN</td>\n",
       "      <td>89.3</td>\n",
       "      <td>NaN</td>\n",
       "      <td>...</td>\n",
       "      <td>NaN</td>\n",
       "      <td>NaN</td>\n",
       "      <td>18.6</td>\n",
       "      <td>NaN</td>\n",
       "      <td>14.8</td>\n",
       "      <td>NaN</td>\n",
       "      <td>41.2</td>\n",
       "      <td>NaN</td>\n",
       "      <td>NaN</td>\n",
       "      <td>NaN</td>\n",
       "    </tr>\n",
       "    <tr>\n",
       "      <th>3</th>\n",
       "      <td>109266.0</td>\n",
       "      <td>1.0</td>\n",
       "      <td>97.1</td>\n",
       "      <td>NaN</td>\n",
       "      <td>NaN</td>\n",
       "      <td>NaN</td>\n",
       "      <td>NaN</td>\n",
       "      <td>NaN</td>\n",
       "      <td>160.2</td>\n",
       "      <td>NaN</td>\n",
       "      <td>...</td>\n",
       "      <td>40.8</td>\n",
       "      <td>NaN</td>\n",
       "      <td>34.7</td>\n",
       "      <td>NaN</td>\n",
       "      <td>35.8</td>\n",
       "      <td>NaN</td>\n",
       "      <td>117.9</td>\n",
       "      <td>NaN</td>\n",
       "      <td>126.1</td>\n",
       "      <td>NaN</td>\n",
       "    </tr>\n",
       "    <tr>\n",
       "      <th>4</th>\n",
       "      <td>109269.0</td>\n",
       "      <td>3.0</td>\n",
       "      <td>13.6</td>\n",
       "      <td>NaN</td>\n",
       "      <td>90.9</td>\n",
       "      <td>NaN</td>\n",
       "      <td>NaN</td>\n",
       "      <td>NaN</td>\n",
       "      <td>NaN</td>\n",
       "      <td>1.0</td>\n",
       "      <td>...</td>\n",
       "      <td>NaN</td>\n",
       "      <td>NaN</td>\n",
       "      <td>NaN</td>\n",
       "      <td>1.0</td>\n",
       "      <td>NaN</td>\n",
       "      <td>1.0</td>\n",
       "      <td>NaN</td>\n",
       "      <td>1.0</td>\n",
       "      <td>NaN</td>\n",
       "      <td>NaN</td>\n",
       "    </tr>\n",
       "    <tr>\n",
       "      <th>...</th>\n",
       "      <td>...</td>\n",
       "      <td>...</td>\n",
       "      <td>...</td>\n",
       "      <td>...</td>\n",
       "      <td>...</td>\n",
       "      <td>...</td>\n",
       "      <td>...</td>\n",
       "      <td>...</td>\n",
       "      <td>...</td>\n",
       "      <td>...</td>\n",
       "      <td>...</td>\n",
       "      <td>...</td>\n",
       "      <td>...</td>\n",
       "      <td>...</td>\n",
       "      <td>...</td>\n",
       "      <td>...</td>\n",
       "      <td>...</td>\n",
       "      <td>...</td>\n",
       "      <td>...</td>\n",
       "      <td>...</td>\n",
       "      <td>...</td>\n",
       "    </tr>\n",
       "    <tr>\n",
       "      <th>14295</th>\n",
       "      <td>124818.0</td>\n",
       "      <td>1.0</td>\n",
       "      <td>108.8</td>\n",
       "      <td>NaN</td>\n",
       "      <td>NaN</td>\n",
       "      <td>NaN</td>\n",
       "      <td>NaN</td>\n",
       "      <td>NaN</td>\n",
       "      <td>168.7</td>\n",
       "      <td>3.0</td>\n",
       "      <td>...</td>\n",
       "      <td>45.6</td>\n",
       "      <td>NaN</td>\n",
       "      <td>38.6</td>\n",
       "      <td>NaN</td>\n",
       "      <td>33.6</td>\n",
       "      <td>NaN</td>\n",
       "      <td>114.7</td>\n",
       "      <td>NaN</td>\n",
       "      <td>118.0</td>\n",
       "      <td>NaN</td>\n",
       "    </tr>\n",
       "    <tr>\n",
       "      <th>14296</th>\n",
       "      <td>124819.0</td>\n",
       "      <td>1.0</td>\n",
       "      <td>15.4</td>\n",
       "      <td>NaN</td>\n",
       "      <td>94.9</td>\n",
       "      <td>NaN</td>\n",
       "      <td>NaN</td>\n",
       "      <td>NaN</td>\n",
       "      <td>93.7</td>\n",
       "      <td>NaN</td>\n",
       "      <td>...</td>\n",
       "      <td>NaN</td>\n",
       "      <td>NaN</td>\n",
       "      <td>17.5</td>\n",
       "      <td>NaN</td>\n",
       "      <td>15.8</td>\n",
       "      <td>NaN</td>\n",
       "      <td>48.4</td>\n",
       "      <td>NaN</td>\n",
       "      <td>NaN</td>\n",
       "      <td>NaN</td>\n",
       "    </tr>\n",
       "    <tr>\n",
       "      <th>14297</th>\n",
       "      <td>124820.0</td>\n",
       "      <td>1.0</td>\n",
       "      <td>22.9</td>\n",
       "      <td>NaN</td>\n",
       "      <td>NaN</td>\n",
       "      <td>NaN</td>\n",
       "      <td>NaN</td>\n",
       "      <td>NaN</td>\n",
       "      <td>123.3</td>\n",
       "      <td>NaN</td>\n",
       "      <td>...</td>\n",
       "      <td>NaN</td>\n",
       "      <td>NaN</td>\n",
       "      <td>24.3</td>\n",
       "      <td>NaN</td>\n",
       "      <td>18.5</td>\n",
       "      <td>NaN</td>\n",
       "      <td>57.5</td>\n",
       "      <td>NaN</td>\n",
       "      <td>NaN</td>\n",
       "      <td>NaN</td>\n",
       "    </tr>\n",
       "    <tr>\n",
       "      <th>14298</th>\n",
       "      <td>124821.0</td>\n",
       "      <td>1.0</td>\n",
       "      <td>79.5</td>\n",
       "      <td>NaN</td>\n",
       "      <td>NaN</td>\n",
       "      <td>NaN</td>\n",
       "      <td>NaN</td>\n",
       "      <td>NaN</td>\n",
       "      <td>176.4</td>\n",
       "      <td>NaN</td>\n",
       "      <td>...</td>\n",
       "      <td>42.0</td>\n",
       "      <td>NaN</td>\n",
       "      <td>39.5</td>\n",
       "      <td>NaN</td>\n",
       "      <td>31.4</td>\n",
       "      <td>NaN</td>\n",
       "      <td>97.1</td>\n",
       "      <td>NaN</td>\n",
       "      <td>99.8</td>\n",
       "      <td>NaN</td>\n",
       "    </tr>\n",
       "    <tr>\n",
       "      <th>14299</th>\n",
       "      <td>124822.0</td>\n",
       "      <td>1.0</td>\n",
       "      <td>59.7</td>\n",
       "      <td>NaN</td>\n",
       "      <td>NaN</td>\n",
       "      <td>NaN</td>\n",
       "      <td>NaN</td>\n",
       "      <td>NaN</td>\n",
       "      <td>167.5</td>\n",
       "      <td>NaN</td>\n",
       "      <td>...</td>\n",
       "      <td>41.1</td>\n",
       "      <td>NaN</td>\n",
       "      <td>40.3</td>\n",
       "      <td>NaN</td>\n",
       "      <td>29.2</td>\n",
       "      <td>NaN</td>\n",
       "      <td>86.9</td>\n",
       "      <td>NaN</td>\n",
       "      <td>90.5</td>\n",
       "      <td>NaN</td>\n",
       "    </tr>\n",
       "  </tbody>\n",
       "</table>\n",
       "<p>14300 rows × 22 columns</p>\n",
       "</div>"
      ],
      "text/plain": [
       "           SEQN  BMDSTATS  BMXWT  BMIWT  BMXRECUM  BMIRECUM  BMXHEAD  BMIHEAD  \\\n",
       "0      109263.0       4.0    NaN    NaN       NaN       NaN      NaN      NaN   \n",
       "1      109264.0       1.0   42.2    NaN       NaN       NaN      NaN      NaN   \n",
       "2      109265.0       1.0   12.0    NaN      91.6       NaN      NaN      NaN   \n",
       "3      109266.0       1.0   97.1    NaN       NaN       NaN      NaN      NaN   \n",
       "4      109269.0       3.0   13.6    NaN      90.9       NaN      NaN      NaN   \n",
       "...         ...       ...    ...    ...       ...       ...      ...      ...   \n",
       "14295  124818.0       1.0  108.8    NaN       NaN       NaN      NaN      NaN   \n",
       "14296  124819.0       1.0   15.4    NaN      94.9       NaN      NaN      NaN   \n",
       "14297  124820.0       1.0   22.9    NaN       NaN       NaN      NaN      NaN   \n",
       "14298  124821.0       1.0   79.5    NaN       NaN       NaN      NaN      NaN   \n",
       "14299  124822.0       1.0   59.7    NaN       NaN       NaN      NaN      NaN   \n",
       "\n",
       "       BMXHT  BMIHT  ...  BMXLEG  BMILEG  BMXARML  BMIARML  BMXARMC  BMIARMC  \\\n",
       "0        NaN    NaN  ...     NaN     NaN      NaN      NaN      NaN      NaN   \n",
       "1      154.7    NaN  ...    36.3     NaN     33.8      NaN     22.7      NaN   \n",
       "2       89.3    NaN  ...     NaN     NaN     18.6      NaN     14.8      NaN   \n",
       "3      160.2    NaN  ...    40.8     NaN     34.7      NaN     35.8      NaN   \n",
       "4        NaN    1.0  ...     NaN     NaN      NaN      1.0      NaN      1.0   \n",
       "...      ...    ...  ...     ...     ...      ...      ...      ...      ...   \n",
       "14295  168.7    3.0  ...    45.6     NaN     38.6      NaN     33.6      NaN   \n",
       "14296   93.7    NaN  ...     NaN     NaN     17.5      NaN     15.8      NaN   \n",
       "14297  123.3    NaN  ...     NaN     NaN     24.3      NaN     18.5      NaN   \n",
       "14298  176.4    NaN  ...    42.0     NaN     39.5      NaN     31.4      NaN   \n",
       "14299  167.5    NaN  ...    41.1     NaN     40.3      NaN     29.2      NaN   \n",
       "\n",
       "       BMXWAIST  BMIWAIST  BMXHIP  BMIHIP  \n",
       "0           NaN       NaN     NaN     NaN  \n",
       "1          63.8       NaN    85.0     NaN  \n",
       "2          41.2       NaN     NaN     NaN  \n",
       "3         117.9       NaN   126.1     NaN  \n",
       "4           NaN       1.0     NaN     NaN  \n",
       "...         ...       ...     ...     ...  \n",
       "14295     114.7       NaN   118.0     NaN  \n",
       "14296      48.4       NaN     NaN     NaN  \n",
       "14297      57.5       NaN     NaN     NaN  \n",
       "14298      97.1       NaN    99.8     NaN  \n",
       "14299      86.9       NaN    90.5     NaN  \n",
       "\n",
       "[14300 rows x 22 columns]"
      ]
     },
     "execution_count": 8,
     "metadata": {},
     "output_type": "execute_result"
    }
   ],
   "source": [
    "df_BMX = pd.read_sas(\n",
    "    '/Users/soumyadeepray/Library/Mobile Documents/com~apple~CloudDocs/Documents/Research_Project-Nutrition_Sciences/NHANES/data/P_BMX.XPT')\n",
    "df_BMX"
   ]
  },
  {
   "cell_type": "markdown",
   "metadata": {},
   "source": [
    "Join the Early Childhood dataframe with the Body Measures dataframe using SEQN as the joining condition and join type as left join."
   ]
  },
  {
   "cell_type": "code",
   "execution_count": 9,
   "metadata": {},
   "outputs": [
    {
     "data": {
      "text/html": [
       "<div>\n",
       "<style scoped>\n",
       "    .dataframe tbody tr th:only-of-type {\n",
       "        vertical-align: middle;\n",
       "    }\n",
       "\n",
       "    .dataframe tbody tr th {\n",
       "        vertical-align: top;\n",
       "    }\n",
       "\n",
       "    .dataframe thead th {\n",
       "        text-align: right;\n",
       "    }\n",
       "</style>\n",
       "<table border=\"1\" class=\"dataframe\">\n",
       "  <thead>\n",
       "    <tr style=\"text-align: right;\">\n",
       "      <th></th>\n",
       "      <th>SEQN</th>\n",
       "      <th>BMDSTATS</th>\n",
       "      <th>BMXWT</th>\n",
       "      <th>BMIWT</th>\n",
       "      <th>BMXRECUM</th>\n",
       "      <th>BMIRECUM</th>\n",
       "      <th>BMXHEAD</th>\n",
       "      <th>BMIHEAD</th>\n",
       "      <th>BMXHT</th>\n",
       "      <th>BMIHT</th>\n",
       "      <th>...</th>\n",
       "      <th>BMIHIP</th>\n",
       "      <th>ECD010</th>\n",
       "      <th>ECQ020</th>\n",
       "      <th>ECD070A</th>\n",
       "      <th>ECD070B</th>\n",
       "      <th>ECQ080</th>\n",
       "      <th>ECQ090</th>\n",
       "      <th>WHQ030E</th>\n",
       "      <th>MCQ080E</th>\n",
       "      <th>ECQ150</th>\n",
       "    </tr>\n",
       "  </thead>\n",
       "  <tbody>\n",
       "    <tr>\n",
       "      <th>0</th>\n",
       "      <td>109263.0</td>\n",
       "      <td>4.0</td>\n",
       "      <td>NaN</td>\n",
       "      <td>NaN</td>\n",
       "      <td>NaN</td>\n",
       "      <td>NaN</td>\n",
       "      <td>NaN</td>\n",
       "      <td>NaN</td>\n",
       "      <td>NaN</td>\n",
       "      <td>NaN</td>\n",
       "      <td>...</td>\n",
       "      <td>NaN</td>\n",
       "      <td>31.0</td>\n",
       "      <td>2.0</td>\n",
       "      <td>7.0</td>\n",
       "      <td>6.000000e+00</td>\n",
       "      <td>NaN</td>\n",
       "      <td>NaN</td>\n",
       "      <td>Normal weight</td>\n",
       "      <td>2.0</td>\n",
       "      <td>NaN</td>\n",
       "    </tr>\n",
       "    <tr>\n",
       "      <th>1</th>\n",
       "      <td>109264.0</td>\n",
       "      <td>1.0</td>\n",
       "      <td>42.2</td>\n",
       "      <td>NaN</td>\n",
       "      <td>NaN</td>\n",
       "      <td>NaN</td>\n",
       "      <td>NaN</td>\n",
       "      <td>NaN</td>\n",
       "      <td>154.7</td>\n",
       "      <td>NaN</td>\n",
       "      <td>...</td>\n",
       "      <td>NaN</td>\n",
       "      <td>19.0</td>\n",
       "      <td>2.0</td>\n",
       "      <td>6.0</td>\n",
       "      <td>5.397605e-79</td>\n",
       "      <td>NaN</td>\n",
       "      <td>NaN</td>\n",
       "      <td>Underweight</td>\n",
       "      <td>2.0</td>\n",
       "      <td>NaN</td>\n",
       "    </tr>\n",
       "    <tr>\n",
       "      <th>2</th>\n",
       "      <td>109265.0</td>\n",
       "      <td>1.0</td>\n",
       "      <td>12.0</td>\n",
       "      <td>NaN</td>\n",
       "      <td>91.6</td>\n",
       "      <td>NaN</td>\n",
       "      <td>NaN</td>\n",
       "      <td>NaN</td>\n",
       "      <td>89.3</td>\n",
       "      <td>NaN</td>\n",
       "      <td>...</td>\n",
       "      <td>NaN</td>\n",
       "      <td>9999.0</td>\n",
       "      <td>9.0</td>\n",
       "      <td>6.0</td>\n",
       "      <td>4.000000e+00</td>\n",
       "      <td>NaN</td>\n",
       "      <td>NaN</td>\n",
       "      <td>Underweight</td>\n",
       "      <td>2.0</td>\n",
       "      <td>NaN</td>\n",
       "    </tr>\n",
       "    <tr>\n",
       "      <th>3</th>\n",
       "      <td>109266.0</td>\n",
       "      <td>1.0</td>\n",
       "      <td>97.1</td>\n",
       "      <td>NaN</td>\n",
       "      <td>NaN</td>\n",
       "      <td>NaN</td>\n",
       "      <td>NaN</td>\n",
       "      <td>NaN</td>\n",
       "      <td>160.2</td>\n",
       "      <td>NaN</td>\n",
       "      <td>...</td>\n",
       "      <td>NaN</td>\n",
       "      <td>NaN</td>\n",
       "      <td>NaN</td>\n",
       "      <td>NaN</td>\n",
       "      <td>NaN</td>\n",
       "      <td>NaN</td>\n",
       "      <td>NaN</td>\n",
       "      <td>NaN</td>\n",
       "      <td>NaN</td>\n",
       "      <td>NaN</td>\n",
       "    </tr>\n",
       "    <tr>\n",
       "      <th>4</th>\n",
       "      <td>109269.0</td>\n",
       "      <td>3.0</td>\n",
       "      <td>13.6</td>\n",
       "      <td>NaN</td>\n",
       "      <td>90.9</td>\n",
       "      <td>NaN</td>\n",
       "      <td>NaN</td>\n",
       "      <td>NaN</td>\n",
       "      <td>NaN</td>\n",
       "      <td>1.0</td>\n",
       "      <td>...</td>\n",
       "      <td>NaN</td>\n",
       "      <td>20.0</td>\n",
       "      <td>2.0</td>\n",
       "      <td>7.0</td>\n",
       "      <td>5.000000e+00</td>\n",
       "      <td>NaN</td>\n",
       "      <td>NaN</td>\n",
       "      <td>Normal weight</td>\n",
       "      <td>1.0</td>\n",
       "      <td>2.0</td>\n",
       "    </tr>\n",
       "    <tr>\n",
       "      <th>...</th>\n",
       "      <td>...</td>\n",
       "      <td>...</td>\n",
       "      <td>...</td>\n",
       "      <td>...</td>\n",
       "      <td>...</td>\n",
       "      <td>...</td>\n",
       "      <td>...</td>\n",
       "      <td>...</td>\n",
       "      <td>...</td>\n",
       "      <td>...</td>\n",
       "      <td>...</td>\n",
       "      <td>...</td>\n",
       "      <td>...</td>\n",
       "      <td>...</td>\n",
       "      <td>...</td>\n",
       "      <td>...</td>\n",
       "      <td>...</td>\n",
       "      <td>...</td>\n",
       "      <td>...</td>\n",
       "      <td>...</td>\n",
       "      <td>...</td>\n",
       "    </tr>\n",
       "    <tr>\n",
       "      <th>14295</th>\n",
       "      <td>124818.0</td>\n",
       "      <td>1.0</td>\n",
       "      <td>108.8</td>\n",
       "      <td>NaN</td>\n",
       "      <td>NaN</td>\n",
       "      <td>NaN</td>\n",
       "      <td>NaN</td>\n",
       "      <td>NaN</td>\n",
       "      <td>168.7</td>\n",
       "      <td>3.0</td>\n",
       "      <td>...</td>\n",
       "      <td>NaN</td>\n",
       "      <td>NaN</td>\n",
       "      <td>NaN</td>\n",
       "      <td>NaN</td>\n",
       "      <td>NaN</td>\n",
       "      <td>NaN</td>\n",
       "      <td>NaN</td>\n",
       "      <td>NaN</td>\n",
       "      <td>NaN</td>\n",
       "      <td>NaN</td>\n",
       "    </tr>\n",
       "    <tr>\n",
       "      <th>14296</th>\n",
       "      <td>124819.0</td>\n",
       "      <td>1.0</td>\n",
       "      <td>15.4</td>\n",
       "      <td>NaN</td>\n",
       "      <td>94.9</td>\n",
       "      <td>NaN</td>\n",
       "      <td>NaN</td>\n",
       "      <td>NaN</td>\n",
       "      <td>93.7</td>\n",
       "      <td>NaN</td>\n",
       "      <td>...</td>\n",
       "      <td>NaN</td>\n",
       "      <td>26.0</td>\n",
       "      <td>2.0</td>\n",
       "      <td>7.0</td>\n",
       "      <td>1.000000e+00</td>\n",
       "      <td>NaN</td>\n",
       "      <td>NaN</td>\n",
       "      <td>Normal weight</td>\n",
       "      <td>2.0</td>\n",
       "      <td>NaN</td>\n",
       "    </tr>\n",
       "    <tr>\n",
       "      <th>14297</th>\n",
       "      <td>124820.0</td>\n",
       "      <td>1.0</td>\n",
       "      <td>22.9</td>\n",
       "      <td>NaN</td>\n",
       "      <td>NaN</td>\n",
       "      <td>NaN</td>\n",
       "      <td>NaN</td>\n",
       "      <td>NaN</td>\n",
       "      <td>123.3</td>\n",
       "      <td>NaN</td>\n",
       "      <td>...</td>\n",
       "      <td>NaN</td>\n",
       "      <td>16.0</td>\n",
       "      <td>1.0</td>\n",
       "      <td>7.0</td>\n",
       "      <td>6.000000e+00</td>\n",
       "      <td>NaN</td>\n",
       "      <td>NaN</td>\n",
       "      <td>Normal weight</td>\n",
       "      <td>2.0</td>\n",
       "      <td>NaN</td>\n",
       "    </tr>\n",
       "    <tr>\n",
       "      <th>14298</th>\n",
       "      <td>124821.0</td>\n",
       "      <td>1.0</td>\n",
       "      <td>79.5</td>\n",
       "      <td>NaN</td>\n",
       "      <td>NaN</td>\n",
       "      <td>NaN</td>\n",
       "      <td>NaN</td>\n",
       "      <td>NaN</td>\n",
       "      <td>176.4</td>\n",
       "      <td>NaN</td>\n",
       "      <td>...</td>\n",
       "      <td>NaN</td>\n",
       "      <td>NaN</td>\n",
       "      <td>NaN</td>\n",
       "      <td>NaN</td>\n",
       "      <td>NaN</td>\n",
       "      <td>NaN</td>\n",
       "      <td>NaN</td>\n",
       "      <td>NaN</td>\n",
       "      <td>NaN</td>\n",
       "      <td>NaN</td>\n",
       "    </tr>\n",
       "    <tr>\n",
       "      <th>14299</th>\n",
       "      <td>124822.0</td>\n",
       "      <td>1.0</td>\n",
       "      <td>59.7</td>\n",
       "      <td>NaN</td>\n",
       "      <td>NaN</td>\n",
       "      <td>NaN</td>\n",
       "      <td>NaN</td>\n",
       "      <td>NaN</td>\n",
       "      <td>167.5</td>\n",
       "      <td>NaN</td>\n",
       "      <td>...</td>\n",
       "      <td>NaN</td>\n",
       "      <td>NaN</td>\n",
       "      <td>NaN</td>\n",
       "      <td>NaN</td>\n",
       "      <td>NaN</td>\n",
       "      <td>NaN</td>\n",
       "      <td>NaN</td>\n",
       "      <td>NaN</td>\n",
       "      <td>NaN</td>\n",
       "      <td>NaN</td>\n",
       "    </tr>\n",
       "  </tbody>\n",
       "</table>\n",
       "<p>14300 rows × 31 columns</p>\n",
       "</div>"
      ],
      "text/plain": [
       "           SEQN  BMDSTATS  BMXWT  BMIWT  BMXRECUM  BMIRECUM  BMXHEAD  BMIHEAD  \\\n",
       "0      109263.0       4.0    NaN    NaN       NaN       NaN      NaN      NaN   \n",
       "1      109264.0       1.0   42.2    NaN       NaN       NaN      NaN      NaN   \n",
       "2      109265.0       1.0   12.0    NaN      91.6       NaN      NaN      NaN   \n",
       "3      109266.0       1.0   97.1    NaN       NaN       NaN      NaN      NaN   \n",
       "4      109269.0       3.0   13.6    NaN      90.9       NaN      NaN      NaN   \n",
       "...         ...       ...    ...    ...       ...       ...      ...      ...   \n",
       "14295  124818.0       1.0  108.8    NaN       NaN       NaN      NaN      NaN   \n",
       "14296  124819.0       1.0   15.4    NaN      94.9       NaN      NaN      NaN   \n",
       "14297  124820.0       1.0   22.9    NaN       NaN       NaN      NaN      NaN   \n",
       "14298  124821.0       1.0   79.5    NaN       NaN       NaN      NaN      NaN   \n",
       "14299  124822.0       1.0   59.7    NaN       NaN       NaN      NaN      NaN   \n",
       "\n",
       "       BMXHT  BMIHT  ...  BMIHIP  ECD010  ECQ020  ECD070A       ECD070B  \\\n",
       "0        NaN    NaN  ...     NaN    31.0     2.0      7.0  6.000000e+00   \n",
       "1      154.7    NaN  ...     NaN    19.0     2.0      6.0  5.397605e-79   \n",
       "2       89.3    NaN  ...     NaN  9999.0     9.0      6.0  4.000000e+00   \n",
       "3      160.2    NaN  ...     NaN     NaN     NaN      NaN           NaN   \n",
       "4        NaN    1.0  ...     NaN    20.0     2.0      7.0  5.000000e+00   \n",
       "...      ...    ...  ...     ...     ...     ...      ...           ...   \n",
       "14295  168.7    3.0  ...     NaN     NaN     NaN      NaN           NaN   \n",
       "14296   93.7    NaN  ...     NaN    26.0     2.0      7.0  1.000000e+00   \n",
       "14297  123.3    NaN  ...     NaN    16.0     1.0      7.0  6.000000e+00   \n",
       "14298  176.4    NaN  ...     NaN     NaN     NaN      NaN           NaN   \n",
       "14299  167.5    NaN  ...     NaN     NaN     NaN      NaN           NaN   \n",
       "\n",
       "       ECQ080  ECQ090        WHQ030E  MCQ080E  ECQ150  \n",
       "0         NaN     NaN  Normal weight      2.0     NaN  \n",
       "1         NaN     NaN    Underweight      2.0     NaN  \n",
       "2         NaN     NaN    Underweight      2.0     NaN  \n",
       "3         NaN     NaN            NaN      NaN     NaN  \n",
       "4         NaN     NaN  Normal weight      1.0     2.0  \n",
       "...       ...     ...            ...      ...     ...  \n",
       "14295     NaN     NaN            NaN      NaN     NaN  \n",
       "14296     NaN     NaN  Normal weight      2.0     NaN  \n",
       "14297     NaN     NaN  Normal weight      2.0     NaN  \n",
       "14298     NaN     NaN            NaN      NaN     NaN  \n",
       "14299     NaN     NaN            NaN      NaN     NaN  \n",
       "\n",
       "[14300 rows x 31 columns]"
      ]
     },
     "execution_count": 9,
     "metadata": {},
     "output_type": "execute_result"
    }
   ],
   "source": [
    "df_merged = pd.merge(df_BMX, df_ECQ, on='SEQN', how='left')\n",
    "df_merged"
   ]
  },
  {
   "cell_type": "markdown",
   "metadata": {},
   "source": [
    "SQL query to select the BMXBMI, BMDBMIC, WHQ030E where WHQ030E is not null and BMXBMI is not null."
   ]
  },
  {
   "cell_type": "code",
   "execution_count": 10,
   "metadata": {},
   "outputs": [],
   "source": [
    "q_1 = db.sql(\"select BMXBMI, BMDBMIC, WHQ030E as Child_Weight_Perception from df_merged where WHQ030E is not null and BMXBMI is not null\").df()"
   ]
  },
  {
   "cell_type": "markdown",
   "metadata": {},
   "source": [
    "Frequency of different child weight perception occasions"
   ]
  },
  {
   "cell_type": "code",
   "execution_count": 11,
   "metadata": {},
   "outputs": [
    {
     "data": {
      "text/plain": [
       "Child_Weight_Perception\n",
       "Normal weight    3101\n",
       "Overweight        499\n",
       "Underweight       265\n",
       "dtype: int64"
      ]
     },
     "execution_count": 11,
     "metadata": {},
     "output_type": "execute_result"
    }
   ],
   "source": [
    "q_1.groupby('Child_Weight_Perception').size()"
   ]
  },
  {
   "cell_type": "code",
   "execution_count": 12,
   "metadata": {},
   "outputs": [
    {
     "data": {
      "text/html": [
       "<div>\n",
       "<style scoped>\n",
       "    .dataframe tbody tr th:only-of-type {\n",
       "        vertical-align: middle;\n",
       "    }\n",
       "\n",
       "    .dataframe tbody tr th {\n",
       "        vertical-align: top;\n",
       "    }\n",
       "\n",
       "    .dataframe thead th {\n",
       "        text-align: right;\n",
       "    }\n",
       "</style>\n",
       "<table border=\"1\" class=\"dataframe\">\n",
       "  <thead>\n",
       "    <tr style=\"text-align: right;\">\n",
       "      <th></th>\n",
       "      <th>index</th>\n",
       "      <th>BMXBMI</th>\n",
       "      <th>BMDBMIC</th>\n",
       "      <th>Child_Weight_Perception</th>\n",
       "    </tr>\n",
       "  </thead>\n",
       "  <tbody>\n",
       "    <tr>\n",
       "      <th>0</th>\n",
       "      <td>0</td>\n",
       "      <td>17.6</td>\n",
       "      <td>2.0</td>\n",
       "      <td>Underweight</td>\n",
       "    </tr>\n",
       "    <tr>\n",
       "      <th>1</th>\n",
       "      <td>1</td>\n",
       "      <td>15.0</td>\n",
       "      <td>2.0</td>\n",
       "      <td>Underweight</td>\n",
       "    </tr>\n",
       "    <tr>\n",
       "      <th>2</th>\n",
       "      <td>2</td>\n",
       "      <td>30.9</td>\n",
       "      <td>4.0</td>\n",
       "      <td>Overweight</td>\n",
       "    </tr>\n",
       "    <tr>\n",
       "      <th>3</th>\n",
       "      <td>3</td>\n",
       "      <td>14.4</td>\n",
       "      <td>2.0</td>\n",
       "      <td>Normal weight</td>\n",
       "    </tr>\n",
       "    <tr>\n",
       "      <th>4</th>\n",
       "      <td>4</td>\n",
       "      <td>18.6</td>\n",
       "      <td>2.0</td>\n",
       "      <td>Normal weight</td>\n",
       "    </tr>\n",
       "    <tr>\n",
       "      <th>...</th>\n",
       "      <td>...</td>\n",
       "      <td>...</td>\n",
       "      <td>...</td>\n",
       "      <td>...</td>\n",
       "    </tr>\n",
       "    <tr>\n",
       "      <th>3860</th>\n",
       "      <td>3860</td>\n",
       "      <td>21.2</td>\n",
       "      <td>4.0</td>\n",
       "      <td>Normal weight</td>\n",
       "    </tr>\n",
       "    <tr>\n",
       "      <th>3861</th>\n",
       "      <td>3861</td>\n",
       "      <td>15.8</td>\n",
       "      <td>2.0</td>\n",
       "      <td>Underweight</td>\n",
       "    </tr>\n",
       "    <tr>\n",
       "      <th>3862</th>\n",
       "      <td>3862</td>\n",
       "      <td>16.0</td>\n",
       "      <td>2.0</td>\n",
       "      <td>Normal weight</td>\n",
       "    </tr>\n",
       "    <tr>\n",
       "      <th>3863</th>\n",
       "      <td>3863</td>\n",
       "      <td>17.5</td>\n",
       "      <td>3.0</td>\n",
       "      <td>Normal weight</td>\n",
       "    </tr>\n",
       "    <tr>\n",
       "      <th>3864</th>\n",
       "      <td>3864</td>\n",
       "      <td>15.1</td>\n",
       "      <td>2.0</td>\n",
       "      <td>Normal weight</td>\n",
       "    </tr>\n",
       "  </tbody>\n",
       "</table>\n",
       "<p>3865 rows × 4 columns</p>\n",
       "</div>"
      ],
      "text/plain": [
       "      index  BMXBMI  BMDBMIC Child_Weight_Perception\n",
       "0         0    17.6      2.0             Underweight\n",
       "1         1    15.0      2.0             Underweight\n",
       "2         2    30.9      4.0              Overweight\n",
       "3         3    14.4      2.0           Normal weight\n",
       "4         4    18.6      2.0           Normal weight\n",
       "...     ...     ...      ...                     ...\n",
       "3860   3860    21.2      4.0           Normal weight\n",
       "3861   3861    15.8      2.0             Underweight\n",
       "3862   3862    16.0      2.0           Normal weight\n",
       "3863   3863    17.5      3.0           Normal weight\n",
       "3864   3864    15.1      2.0           Normal weight\n",
       "\n",
       "[3865 rows x 4 columns]"
      ]
     },
     "execution_count": 12,
     "metadata": {},
     "output_type": "execute_result"
    }
   ],
   "source": [
    "q_1.reset_index(inplace=True)\n",
    "q_1"
   ]
  },
  {
   "cell_type": "code",
   "execution_count": 13,
   "metadata": {},
   "outputs": [
    {
     "data": {
      "text/plain": [
       "Index(['index', 'BMXBMI', 'BMDBMIC', 'Child_Weight_Perception'], dtype='object')"
      ]
     },
     "execution_count": 13,
     "metadata": {},
     "output_type": "execute_result"
    }
   ],
   "source": [
    "q_1.columns"
   ]
  },
  {
   "attachments": {},
   "cell_type": "markdown",
   "metadata": {},
   "source": [
    "We will do random sampling to choose 1000 from a total of 3865 responddents. We will use _random.sample_ function."
   ]
  },
  {
   "cell_type": "code",
   "execution_count": 14,
   "metadata": {},
   "outputs": [],
   "source": [
    "random.seed(42)\n",
    "sample_id = random.sample(list(range(0,3865)), 1000)"
   ]
  },
  {
   "cell_type": "code",
   "execution_count": 15,
   "metadata": {},
   "outputs": [],
   "source": [
    "sample_df = q_1[q_1['index'].isin(sample_id)].reset_index(drop=True)"
   ]
  },
  {
   "cell_type": "code",
   "execution_count": 16,
   "metadata": {},
   "outputs": [
    {
     "data": {
      "text/html": [
       "<div>\n",
       "<style scoped>\n",
       "    .dataframe tbody tr th:only-of-type {\n",
       "        vertical-align: middle;\n",
       "    }\n",
       "\n",
       "    .dataframe tbody tr th {\n",
       "        vertical-align: top;\n",
       "    }\n",
       "\n",
       "    .dataframe thead th {\n",
       "        text-align: right;\n",
       "    }\n",
       "</style>\n",
       "<table border=\"1\" class=\"dataframe\">\n",
       "  <thead>\n",
       "    <tr style=\"text-align: right;\">\n",
       "      <th></th>\n",
       "      <th>index</th>\n",
       "      <th>BMXBMI</th>\n",
       "      <th>BMDBMIC</th>\n",
       "      <th>Child_Weight_Perception</th>\n",
       "    </tr>\n",
       "  </thead>\n",
       "  <tbody>\n",
       "    <tr>\n",
       "      <th>0</th>\n",
       "      <td>1</td>\n",
       "      <td>15.0</td>\n",
       "      <td>2.0</td>\n",
       "      <td>Underweight</td>\n",
       "    </tr>\n",
       "    <tr>\n",
       "      <th>1</th>\n",
       "      <td>2</td>\n",
       "      <td>30.9</td>\n",
       "      <td>4.0</td>\n",
       "      <td>Overweight</td>\n",
       "    </tr>\n",
       "    <tr>\n",
       "      <th>2</th>\n",
       "      <td>6</td>\n",
       "      <td>16.2</td>\n",
       "      <td>2.0</td>\n",
       "      <td>Normal weight</td>\n",
       "    </tr>\n",
       "    <tr>\n",
       "      <th>3</th>\n",
       "      <td>8</td>\n",
       "      <td>18.3</td>\n",
       "      <td>4.0</td>\n",
       "      <td>Overweight</td>\n",
       "    </tr>\n",
       "    <tr>\n",
       "      <th>4</th>\n",
       "      <td>13</td>\n",
       "      <td>16.3</td>\n",
       "      <td>2.0</td>\n",
       "      <td>Normal weight</td>\n",
       "    </tr>\n",
       "    <tr>\n",
       "      <th>...</th>\n",
       "      <td>...</td>\n",
       "      <td>...</td>\n",
       "      <td>...</td>\n",
       "      <td>...</td>\n",
       "    </tr>\n",
       "    <tr>\n",
       "      <th>995</th>\n",
       "      <td>3848</td>\n",
       "      <td>15.5</td>\n",
       "      <td>2.0</td>\n",
       "      <td>Normal weight</td>\n",
       "    </tr>\n",
       "    <tr>\n",
       "      <th>996</th>\n",
       "      <td>3852</td>\n",
       "      <td>19.1</td>\n",
       "      <td>2.0</td>\n",
       "      <td>Underweight</td>\n",
       "    </tr>\n",
       "    <tr>\n",
       "      <th>997</th>\n",
       "      <td>3856</td>\n",
       "      <td>29.9</td>\n",
       "      <td>4.0</td>\n",
       "      <td>Overweight</td>\n",
       "    </tr>\n",
       "    <tr>\n",
       "      <th>998</th>\n",
       "      <td>3857</td>\n",
       "      <td>24.4</td>\n",
       "      <td>3.0</td>\n",
       "      <td>Normal weight</td>\n",
       "    </tr>\n",
       "    <tr>\n",
       "      <th>999</th>\n",
       "      <td>3863</td>\n",
       "      <td>17.5</td>\n",
       "      <td>3.0</td>\n",
       "      <td>Normal weight</td>\n",
       "    </tr>\n",
       "  </tbody>\n",
       "</table>\n",
       "<p>1000 rows × 4 columns</p>\n",
       "</div>"
      ],
      "text/plain": [
       "     index  BMXBMI  BMDBMIC Child_Weight_Perception\n",
       "0        1    15.0      2.0             Underweight\n",
       "1        2    30.9      4.0              Overweight\n",
       "2        6    16.2      2.0           Normal weight\n",
       "3        8    18.3      4.0              Overweight\n",
       "4       13    16.3      2.0           Normal weight\n",
       "..     ...     ...      ...                     ...\n",
       "995   3848    15.5      2.0           Normal weight\n",
       "996   3852    19.1      2.0             Underweight\n",
       "997   3856    29.9      4.0              Overweight\n",
       "998   3857    24.4      3.0           Normal weight\n",
       "999   3863    17.5      3.0           Normal weight\n",
       "\n",
       "[1000 rows x 4 columns]"
      ]
     },
     "execution_count": 16,
     "metadata": {},
     "output_type": "execute_result"
    }
   ],
   "source": [
    "sample_df"
   ]
  },
  {
   "attachments": {},
   "cell_type": "markdown",
   "metadata": {},
   "source": [
    "Keeping only the variables of interest - __Child_Weight_Perception__ and __BMXBMI__"
   ]
  },
  {
   "cell_type": "code",
   "execution_count": 17,
   "metadata": {},
   "outputs": [
    {
     "data": {
      "text/html": [
       "<div>\n",
       "<style scoped>\n",
       "    .dataframe tbody tr th:only-of-type {\n",
       "        vertical-align: middle;\n",
       "    }\n",
       "\n",
       "    .dataframe tbody tr th {\n",
       "        vertical-align: top;\n",
       "    }\n",
       "\n",
       "    .dataframe thead th {\n",
       "        text-align: right;\n",
       "    }\n",
       "</style>\n",
       "<table border=\"1\" class=\"dataframe\">\n",
       "  <thead>\n",
       "    <tr style=\"text-align: right;\">\n",
       "      <th></th>\n",
       "      <th>Child_Weight_Perception</th>\n",
       "      <th>BMXBMI</th>\n",
       "    </tr>\n",
       "  </thead>\n",
       "  <tbody>\n",
       "    <tr>\n",
       "      <th>0</th>\n",
       "      <td>Normal weight</td>\n",
       "      <td>803</td>\n",
       "    </tr>\n",
       "    <tr>\n",
       "      <th>1</th>\n",
       "      <td>Overweight</td>\n",
       "      <td>122</td>\n",
       "    </tr>\n",
       "    <tr>\n",
       "      <th>2</th>\n",
       "      <td>Underweight</td>\n",
       "      <td>75</td>\n",
       "    </tr>\n",
       "  </tbody>\n",
       "</table>\n",
       "</div>"
      ],
      "text/plain": [
       "  Child_Weight_Perception  BMXBMI\n",
       "0           Normal weight     803\n",
       "1              Overweight     122\n",
       "2             Underweight      75"
      ]
     },
     "execution_count": 17,
     "metadata": {},
     "output_type": "execute_result"
    }
   ],
   "source": [
    "sample_df = sample_df[['BMXBMI','Child_Weight_Perception']]\n",
    "groups = sample_df.groupby('Child_Weight_Perception').count().reset_index()\n",
    "groups"
   ]
  },
  {
   "attachments": {},
   "cell_type": "markdown",
   "metadata": {},
   "source": [
    "### Normality Assumption Check"
   ]
  },
  {
   "attachments": {},
   "cell_type": "markdown",
   "metadata": {},
   "source": [
    "Before we perform the hypothesis test, we check if the assumptions for the one-way ANOVA hypothesis test are fulfilled. The samples are random and independent samples. \n",
    "\n",
    "Now, we check the normality assumption by plotting a normal probability plot (Q-Q plots) for each grouped variable."
   ]
  },
  {
   "cell_type": "code",
   "execution_count": 18,
   "metadata": {},
   "outputs": [
    {
     "data": {
      "image/png": "[encoded data removed]",
      "text/plain": [
       "<Figure size 432x288 with 1 Axes>"
      ]
     },
     "metadata": {
      "needs_background": "light"
     },
     "output_type": "display_data"
    },
    {
     "data": {
      "image/png": "[encoded data removed]",
      "text/plain": [
       "<Figure size 432x288 with 1 Axes>"
      ]
     },
     "metadata": {
      "needs_background": "light"
     },
     "output_type": "display_data"
    },
    {
     "data": {
      "image/png": "[encoded data removed]",
      "text/plain": [
       "<Figure size 432x288 with 1 Axes>"
      ]
     },
     "metadata": {
      "needs_background": "light"
     },
     "output_type": "display_data"
    }
   ],
   "source": [
    "weight_groups = sample_df['Child_Weight_Perception'].unique()\n",
    "for i in weight_groups:\n",
    "    stats.probplot(sample_df[sample_df['Child_Weight_Perception'] == i]['BMXBMI'], dist=\"norm\", plot=plt)\n",
    "    plt.title(\"Probability Plot - \" +  i)\n",
    "    plt.show()"
   ]
  },
  {
   "attachments": {},
   "cell_type": "markdown",
   "metadata": {},
   "source": [
    "The Q-Q plot shows a largely straight-line pattern if it is from a normal distribution. From the above figure, we may assume that the data for each group falls roughly on a straight line."
   ]
  },
  {
   "attachments": {},
   "cell_type": "markdown",
   "metadata": {},
   "source": [
    "### Homogeneity of variance Assumption Check"
   ]
  },
  {
   "cell_type": "code",
   "execution_count": 19,
   "metadata": {},
   "outputs": [
    {
     "data": {
      "text/plain": [
       "BMXBMI    2.108908\n",
       "dtype: float64"
      ]
     },
     "execution_count": 19,
     "metadata": {},
     "output_type": "execute_result"
    }
   ],
   "source": [
    "# calculate ratio of the largest to the smallest sample standard deviation\n",
    "ratio = sample_df.groupby('Child_Weight_Perception').std().max() / sample_df.groupby('Child_Weight_Perception').std().min()\n",
    "ratio"
   ]
  },
  {
   "attachments": {},
   "cell_type": "markdown",
   "metadata": {},
   "source": [
    "The ratio of the largest to the smallest sample standard deviation is 2.108. That is greater than the threshold of 2. Therefore the homegeneity of variance assumption is not fulfilled."
   ]
  },
  {
   "cell_type": "code",
   "execution_count": 20,
   "metadata": {},
   "outputs": [
    {
     "data": {
      "text/plain": [
       "LeveneResult(statistic=52.696023956421776, pvalue=1.757942342008102e-22)"
      ]
     },
     "execution_count": 20,
     "metadata": {},
     "output_type": "execute_result"
    }
   ],
   "source": [
    "stats.levene(sample_df['BMXBMI'][sample_df['Child_Weight_Perception'] == 'Underweight'],\n",
    "             sample_df['BMXBMI'][sample_df['Child_Weight_Perception'] == 'Overweight'],\n",
    "             sample_df['BMXBMI'][sample_df['Child_Weight_Perception'] == 'Normal weight'])"
   ]
  },
  {
   "attachments": {},
   "cell_type": "markdown",
   "metadata": {},
   "source": [
    "### One way Anova"
   ]
  },
  {
   "cell_type": "code",
   "execution_count": 21,
   "metadata": {},
   "outputs": [],
   "source": [
    "# model = ols('BMXBMI ~ C(Child_Weight_Perception)', data=sample_df).fit()\n",
    "# aov_table = sm.stats.anova_lm(model, typ=2)\n",
    "# aov_table"
   ]
  },
  {
   "cell_type": "markdown",
   "metadata": {},
   "source": [
    "`summary_cont` returns a nice data table as a Pandas DataFrame that includes the variable name, total number of non-missing observations, standard deviation, standard error, and the 95% confidence interval."
   ]
  },
  {
   "cell_type": "code",
   "execution_count": 22,
   "metadata": {},
   "outputs": [
    {
     "name": "stdout",
     "output_type": "stream",
     "text": [
      "\n",
      "\n"
     ]
    },
    {
     "data": {
      "text/html": [
       "<div>\n",
       "<style scoped>\n",
       "    .dataframe tbody tr th:only-of-type {\n",
       "        vertical-align: middle;\n",
       "    }\n",
       "\n",
       "    .dataframe tbody tr th {\n",
       "        vertical-align: top;\n",
       "    }\n",
       "\n",
       "    .dataframe thead th {\n",
       "        text-align: right;\n",
       "    }\n",
       "</style>\n",
       "<table border=\"1\" class=\"dataframe\">\n",
       "  <thead>\n",
       "    <tr style=\"text-align: right;\">\n",
       "      <th></th>\n",
       "      <th>Variable</th>\n",
       "      <th>N</th>\n",
       "      <th>Mean</th>\n",
       "      <th>SD</th>\n",
       "      <th>SE</th>\n",
       "      <th>95% Conf.</th>\n",
       "      <th>Interval</th>\n",
       "    </tr>\n",
       "  </thead>\n",
       "  <tbody>\n",
       "    <tr>\n",
       "      <th>0</th>\n",
       "      <td>BMXBMI</td>\n",
       "      <td>1000.0</td>\n",
       "      <td>19.3481</td>\n",
       "      <td>5.181</td>\n",
       "      <td>0.1638</td>\n",
       "      <td>19.0266</td>\n",
       "      <td>19.6696</td>\n",
       "    </tr>\n",
       "  </tbody>\n",
       "</table>\n",
       "</div>"
      ],
      "text/plain": [
       "  Variable       N     Mean     SD      SE  95% Conf.  Interval\n",
       "0   BMXBMI  1000.0  19.3481  5.181  0.1638    19.0266   19.6696"
      ]
     },
     "execution_count": 22,
     "metadata": {},
     "output_type": "execute_result"
    }
   ],
   "source": [
    "rp.summary_cont(sample_df['BMXBMI'])"
   ]
  },
  {
   "cell_type": "code",
   "execution_count": 23,
   "metadata": {},
   "outputs": [
    {
     "name": "stdout",
     "output_type": "stream",
     "text": [
      "\n",
      "\n"
     ]
    },
    {
     "data": {
      "text/html": [
       "<div>\n",
       "<style scoped>\n",
       "    .dataframe tbody tr th:only-of-type {\n",
       "        vertical-align: middle;\n",
       "    }\n",
       "\n",
       "    .dataframe tbody tr th {\n",
       "        vertical-align: top;\n",
       "    }\n",
       "\n",
       "    .dataframe thead th {\n",
       "        text-align: right;\n",
       "    }\n",
       "</style>\n",
       "<table border=\"1\" class=\"dataframe\">\n",
       "  <thead>\n",
       "    <tr style=\"text-align: right;\">\n",
       "      <th></th>\n",
       "      <th>N</th>\n",
       "      <th>Mean</th>\n",
       "      <th>SD</th>\n",
       "      <th>SE</th>\n",
       "      <th>95% Conf.</th>\n",
       "      <th>Interval</th>\n",
       "    </tr>\n",
       "    <tr>\n",
       "      <th>Child_Weight_Perception</th>\n",
       "      <th></th>\n",
       "      <th></th>\n",
       "      <th></th>\n",
       "      <th></th>\n",
       "      <th></th>\n",
       "      <th></th>\n",
       "    </tr>\n",
       "  </thead>\n",
       "  <tbody>\n",
       "    <tr>\n",
       "      <th>Normal weight</th>\n",
       "      <td>803</td>\n",
       "      <td>18.4047</td>\n",
       "      <td>3.5656</td>\n",
       "      <td>0.1258</td>\n",
       "      <td>18.1577</td>\n",
       "      <td>18.6517</td>\n",
       "    </tr>\n",
       "    <tr>\n",
       "      <th>Overweight</th>\n",
       "      <td>122</td>\n",
       "      <td>27.6869</td>\n",
       "      <td>6.8834</td>\n",
       "      <td>0.6232</td>\n",
       "      <td>26.4531</td>\n",
       "      <td>28.9207</td>\n",
       "    </tr>\n",
       "    <tr>\n",
       "      <th>Underweight</th>\n",
       "      <td>75</td>\n",
       "      <td>15.8840</td>\n",
       "      <td>3.2640</td>\n",
       "      <td>0.3769</td>\n",
       "      <td>15.1330</td>\n",
       "      <td>16.6350</td>\n",
       "    </tr>\n",
       "  </tbody>\n",
       "</table>\n",
       "</div>"
      ],
      "text/plain": [
       "                           N     Mean      SD      SE  95% Conf.  Interval\n",
       "Child_Weight_Perception                                                   \n",
       "Normal weight            803  18.4047  3.5656  0.1258    18.1577   18.6517\n",
       "Overweight               122  27.6869  6.8834  0.6232    26.4531   28.9207\n",
       "Underweight               75  15.8840  3.2640  0.3769    15.1330   16.6350"
      ]
     },
     "execution_count": 23,
     "metadata": {},
     "output_type": "execute_result"
    }
   ],
   "source": [
    "rp.summary_cont(sample_df['BMXBMI'].groupby(sample_df['Child_Weight_Perception']))"
   ]
  },
  {
   "cell_type": "markdown",
   "metadata": {},
   "source": [
    "`f_oneway` is the one-way ANOVA that tests the null hypothesis that two or more groups have the same population mean. The test is applied to samples from two or more groups, possibly with differing sizes."
   ]
  },
  {
   "cell_type": "code",
   "execution_count": 24,
   "metadata": {},
   "outputs": [
    {
     "name": "stdout",
     "output_type": "stream",
     "text": [
      "F-value: 301.1093605694674\n",
      "P-value: 5.028814636009793e-103\n"
     ]
    }
   ],
   "source": [
    "import scipy.stats as stats\n",
    "\n",
    "f_value, p_value =  stats.f_oneway(sample_df['BMXBMI'][sample_df['Child_Weight_Perception'] == 'Underweight'],\n",
    "                                sample_df['BMXBMI'][sample_df['Child_Weight_Perception'] == 'Overweight'],\n",
    "                                sample_df['BMXBMI'][sample_df['Child_Weight_Perception'] == 'Normal weight'])\n",
    "\n",
    "# Print results\n",
    "print(\"F-value:\", f_value)\n",
    "print(\"P-value:\", p_value)"
   ]
  },
  {
   "attachments": {},
   "cell_type": "markdown",
   "metadata": {},
   "source": [
    "### Conclusion"
   ]
  },
  {
   "attachments": {},
   "cell_type": "markdown",
   "metadata": {},
   "source": [
    "We see that through the One way Anova test, there is statistically significant difference between the different weight group means(F-value: 301.1093605694674, P-value: 5.028814636009793e-103)\n",
    "\n",
    "But not all the assumptions of the Anova test is satisfied."
   ]
  },
  {
   "attachments": {},
   "cell_type": "markdown",
   "metadata": {},
   "source": [
    "#### Referrence\n",
    "__https://towardsdatascience.com/anova-test-with-python-cfbf4013328b__\n",
    "\n",
    "__https://www.pythonfordatascience.org/anova-python/__"
   ]
  },
  {
   "cell_type": "code",
   "execution_count": 25,
   "metadata": {},
   "outputs": [],
   "source": [
    "underweight_group = sample_df['BMXBMI'][sample_df['Child_Weight_Perception'] == 'Underweight']\n",
    "overweight_group = sample_df['BMXBMI'][sample_df['Child_Weight_Perception'] == 'Overweight']\n",
    "normalweight_group = sample_df['BMXBMI'][sample_df['Child_Weight_Perception'] == 'Normal weight']"
   ]
  },
  {
   "attachments": {},
   "cell_type": "markdown",
   "metadata": {},
   "source": [
    "For performing contrasts in ANOVA, we have used t-test to compare the means of three groups taken two at a time (pairwise t-test)"
   ]
  },
  {
   "cell_type": "code",
   "execution_count": 26,
   "metadata": {},
   "outputs": [],
   "source": [
    "t_statistic1, p_value1 = ttest_ind(underweight_group, overweight_group)\n",
    "t_statistic2, p_value2 = ttest_ind(underweight_group, normalweight_group)\n",
    "t_statistic3, p_value3 = ttest_ind(overweight_group, normalweight_group)"
   ]
  },
  {
   "cell_type": "code",
   "execution_count": 27,
   "metadata": {},
   "outputs": [
    {
     "name": "stdout",
     "output_type": "stream",
     "text": [
      "T-statistic (underweight_group vs. overweight_group): -13.909403800198467\n",
      "P-value (underweight_group vs. overweight_group): 5.264986017543727e-31\n"
     ]
    }
   ],
   "source": [
    "print(\"T-statistic (underweight_group vs. overweight_group):\", t_statistic1)\n",
    "print(\"P-value (underweight_group vs. overweight_group):\", p_value1)"
   ]
  },
  {
   "cell_type": "code",
   "execution_count": 28,
   "metadata": {},
   "outputs": [
    {
     "name": "stdout",
     "output_type": "stream",
     "text": [
      "T-statistic (underweight_group vs. normalweight_group): -5.895644620458927\n",
      "P-value (underweight_group vs. normalweight_group): 5.3236730882012225e-09\n"
     ]
    }
   ],
   "source": [
    "print(\"T-statistic (underweight_group vs. normalweight_group):\", t_statistic2)\n",
    "print(\"P-value (underweight_group vs. normalweight_group):\", p_value2)"
   ]
  },
  {
   "cell_type": "code",
   "execution_count": 29,
   "metadata": {},
   "outputs": [
    {
     "name": "stdout",
     "output_type": "stream",
     "text": [
      "T-statistic (overweight_group vs. normalweight_group): 22.994243453290277\n",
      "P-value (overweight_group vs. normalweight_group): 7.366692611711988e-93\n"
     ]
    }
   ],
   "source": [
    "print(\"T-statistic (overweight_group vs. normalweight_group):\", t_statistic3)\n",
    "print(\"P-value (overweight_group vs. normalweight_group):\", p_value3)"
   ]
  },
  {
   "attachments": {},
   "cell_type": "markdown",
   "metadata": {},
   "source": [
    "### Chi Square Test"
   ]
  },
  {
   "attachments": {},
   "cell_type": "markdown",
   "metadata": {},
   "source": [
    "Pearson’s chi-squared test is a statistical hypothesis test used in the analysis of contingency tables when the sample sizes are large. In simpler terms, this test is primarily used to examine whether two categorical variables are independent in influencing the test statistic.\n",
    "\n",
    "The distribution of a categorical variable in a sample often needs to be compared with the distribution of a categorical variable in another sample.\n",
    "\n",
    "Here, we will compare the distribution of BMDBMIC (BMI Category - Children/Youth) and WHQ030E (How do you consider your child's weight)."
   ]
  },
  {
   "attachments": {},
   "cell_type": "markdown",
   "metadata": {},
   "source": [
    "#### Hypothesis for the chi square test\n",
    "\n",
    "The null hypothesis can be framed in the below manner: The grouping variables have no association or correlation amongst them.\n",
    "\n",
    "\n",
    "The alternate Hypothesis goes as framed below: The variables are associated with each other and happen to have a correlation between the variables."
   ]
  },
  {
   "cell_type": "code",
   "execution_count": 30,
   "metadata": {},
   "outputs": [],
   "source": [
    "from scipy.stats import chi2_contingency\n",
    "import numpy as np"
   ]
  },
  {
   "cell_type": "code",
   "execution_count": 33,
   "metadata": {},
   "outputs": [
    {
     "data": {
      "text/html": [
       "<div>\n",
       "<style scoped>\n",
       "    .dataframe tbody tr th:only-of-type {\n",
       "        vertical-align: middle;\n",
       "    }\n",
       "\n",
       "    .dataframe tbody tr th {\n",
       "        vertical-align: top;\n",
       "    }\n",
       "\n",
       "    .dataframe thead th {\n",
       "        text-align: right;\n",
       "    }\n",
       "</style>\n",
       "<table border=\"1\" class=\"dataframe\">\n",
       "  <thead>\n",
       "    <tr style=\"text-align: right;\">\n",
       "      <th></th>\n",
       "      <th>index</th>\n",
       "      <th>BMXBMI</th>\n",
       "      <th>BMDBMIC</th>\n",
       "      <th>Child_Weight_Perception</th>\n",
       "    </tr>\n",
       "  </thead>\n",
       "  <tbody>\n",
       "    <tr>\n",
       "      <th>0</th>\n",
       "      <td>0</td>\n",
       "      <td>17.6</td>\n",
       "      <td>2.0</td>\n",
       "      <td>Underweight</td>\n",
       "    </tr>\n",
       "    <tr>\n",
       "      <th>1</th>\n",
       "      <td>1</td>\n",
       "      <td>15.0</td>\n",
       "      <td>2.0</td>\n",
       "      <td>Underweight</td>\n",
       "    </tr>\n",
       "    <tr>\n",
       "      <th>2</th>\n",
       "      <td>2</td>\n",
       "      <td>30.9</td>\n",
       "      <td>4.0</td>\n",
       "      <td>Overweight</td>\n",
       "    </tr>\n",
       "    <tr>\n",
       "      <th>3</th>\n",
       "      <td>3</td>\n",
       "      <td>14.4</td>\n",
       "      <td>2.0</td>\n",
       "      <td>Normal weight</td>\n",
       "    </tr>\n",
       "    <tr>\n",
       "      <th>4</th>\n",
       "      <td>4</td>\n",
       "      <td>18.6</td>\n",
       "      <td>2.0</td>\n",
       "      <td>Normal weight</td>\n",
       "    </tr>\n",
       "    <tr>\n",
       "      <th>...</th>\n",
       "      <td>...</td>\n",
       "      <td>...</td>\n",
       "      <td>...</td>\n",
       "      <td>...</td>\n",
       "    </tr>\n",
       "    <tr>\n",
       "      <th>3860</th>\n",
       "      <td>3860</td>\n",
       "      <td>21.2</td>\n",
       "      <td>4.0</td>\n",
       "      <td>Normal weight</td>\n",
       "    </tr>\n",
       "    <tr>\n",
       "      <th>3861</th>\n",
       "      <td>3861</td>\n",
       "      <td>15.8</td>\n",
       "      <td>2.0</td>\n",
       "      <td>Underweight</td>\n",
       "    </tr>\n",
       "    <tr>\n",
       "      <th>3862</th>\n",
       "      <td>3862</td>\n",
       "      <td>16.0</td>\n",
       "      <td>2.0</td>\n",
       "      <td>Normal weight</td>\n",
       "    </tr>\n",
       "    <tr>\n",
       "      <th>3863</th>\n",
       "      <td>3863</td>\n",
       "      <td>17.5</td>\n",
       "      <td>3.0</td>\n",
       "      <td>Normal weight</td>\n",
       "    </tr>\n",
       "    <tr>\n",
       "      <th>3864</th>\n",
       "      <td>3864</td>\n",
       "      <td>15.1</td>\n",
       "      <td>2.0</td>\n",
       "      <td>Normal weight</td>\n",
       "    </tr>\n",
       "  </tbody>\n",
       "</table>\n",
       "<p>3865 rows × 4 columns</p>\n",
       "</div>"
      ],
      "text/plain": [
       "      index  BMXBMI  BMDBMIC Child_Weight_Perception\n",
       "0         0    17.6      2.0             Underweight\n",
       "1         1    15.0      2.0             Underweight\n",
       "2         2    30.9      4.0              Overweight\n",
       "3         3    14.4      2.0           Normal weight\n",
       "4         4    18.6      2.0           Normal weight\n",
       "...     ...     ...      ...                     ...\n",
       "3860   3860    21.2      4.0           Normal weight\n",
       "3861   3861    15.8      2.0             Underweight\n",
       "3862   3862    16.0      2.0           Normal weight\n",
       "3863   3863    17.5      3.0           Normal weight\n",
       "3864   3864    15.1      2.0           Normal weight\n",
       "\n",
       "[3865 rows x 4 columns]"
      ]
     },
     "execution_count": 33,
     "metadata": {},
     "output_type": "execute_result"
    }
   ],
   "source": [
    "q_1"
   ]
  },
  {
   "cell_type": "code",
   "execution_count": 39,
   "metadata": {},
   "outputs": [],
   "source": [
    "q_1['BMDBMIC'] = q_1['BMDBMIC'].map({1.0 : 'Underweight',\n",
    "                                    2.0 : 'Normal weight',\n",
    "                                    3.0 : 'Overweight',\n",
    "                                    4.0 : 'Overweight'})"
   ]
  },
  {
   "cell_type": "code",
   "execution_count": 40,
   "metadata": {},
   "outputs": [
    {
     "data": {
      "text/plain": [
       "Normal weight    2328\n",
       "Overweight       1414\n",
       "Underweight       123\n",
       "Name: BMDBMIC, dtype: int64"
      ]
     },
     "execution_count": 40,
     "metadata": {},
     "output_type": "execute_result"
    }
   ],
   "source": [
    "q_1['BMDBMIC'].value_counts()"
   ]
  },
  {
   "cell_type": "code",
   "execution_count": 38,
   "metadata": {},
   "outputs": [
    {
     "data": {
      "text/plain": [
       "Normal weight    3101\n",
       "Overweight        499\n",
       "Underweight       265\n",
       "Name: Child_Weight_Perception, dtype: int64"
      ]
     },
     "execution_count": 38,
     "metadata": {},
     "output_type": "execute_result"
    }
   ],
   "source": [
    "q_1['Child_Weight_Perception'].value_counts()"
   ]
  },
  {
   "attachments": {},
   "cell_type": "markdown",
   "metadata": {},
   "source": [
    "Creating the contingency table:\n",
    "A contingency table is a table that shows the distribution of one variable in rows and another variable in columns. One can create a contingency table using the numpy library."
   ]
  },
  {
   "cell_type": "code",
   "execution_count": 41,
   "metadata": {},
   "outputs": [
    {
     "data": {
      "text/html": [
       "<div>\n",
       "<style scoped>\n",
       "    .dataframe tbody tr th:only-of-type {\n",
       "        vertical-align: middle;\n",
       "    }\n",
       "\n",
       "    .dataframe tbody tr th {\n",
       "        vertical-align: top;\n",
       "    }\n",
       "\n",
       "    .dataframe thead th {\n",
       "        text-align: right;\n",
       "    }\n",
       "</style>\n",
       "<table border=\"1\" class=\"dataframe\">\n",
       "  <thead>\n",
       "    <tr style=\"text-align: right;\">\n",
       "      <th>Child_Weight_Perception</th>\n",
       "      <th>Normal weight</th>\n",
       "      <th>Overweight</th>\n",
       "      <th>Underweight</th>\n",
       "    </tr>\n",
       "    <tr>\n",
       "      <th>BMDBMIC</th>\n",
       "      <th></th>\n",
       "      <th></th>\n",
       "      <th></th>\n",
       "    </tr>\n",
       "  </thead>\n",
       "  <tbody>\n",
       "    <tr>\n",
       "      <th>Normal weight</th>\n",
       "      <td>2095</td>\n",
       "      <td>22</td>\n",
       "      <td>211</td>\n",
       "    </tr>\n",
       "    <tr>\n",
       "      <th>Overweight</th>\n",
       "      <td>929</td>\n",
       "      <td>476</td>\n",
       "      <td>9</td>\n",
       "    </tr>\n",
       "    <tr>\n",
       "      <th>Underweight</th>\n",
       "      <td>77</td>\n",
       "      <td>1</td>\n",
       "      <td>45</td>\n",
       "    </tr>\n",
       "  </tbody>\n",
       "</table>\n",
       "</div>"
      ],
      "text/plain": [
       "Child_Weight_Perception  Normal weight  Overweight  Underweight\n",
       "BMDBMIC                                                        \n",
       "Normal weight                     2095          22          211\n",
       "Overweight                         929         476            9\n",
       "Underweight                         77           1           45"
      ]
     },
     "execution_count": 41,
     "metadata": {},
     "output_type": "execute_result"
    }
   ],
   "source": [
    "contigency= pd.crosstab(q_1['BMDBMIC'], q_1['Child_Weight_Perception'])\n",
    "contigency"
   ]
  },
  {
   "attachments": {},
   "cell_type": "markdown",
   "metadata": {},
   "source": [
    "chi2_contingency function returns four values:\n",
    "\n",
    "chi2_stat: the chi-square test statistic\n",
    "\n",
    "p_val: the p-value of the test\n",
    "\n",
    "dof: the degrees of freedom\n",
    "\n",
    "ex: the expected values based on the null hypothesis"
   ]
  },
  {
   "cell_type": "code",
   "execution_count": 42,
   "metadata": {},
   "outputs": [],
   "source": [
    "chi2_stat, p_val, dof, ex = chi2_contingency(contigency)"
   ]
  },
  {
   "cell_type": "code",
   "execution_count": 43,
   "metadata": {},
   "outputs": [
    {
     "name": "stdout",
     "output_type": "stream",
     "text": [
      "Chi-square statistic = 1068.2871265667493\n",
      "P-value = 5.660675088788953e-230\n",
      "Degrees of freedom = 4\n",
      "Expected values = \n",
      "[[1867.82095731  300.56196636  159.61707633]\n",
      " [1134.49262613  182.55782665   96.94954722]\n",
      " [  98.68641656   15.88020699    8.43337646]]\n"
     ]
    }
   ],
   "source": [
    "print(f\"Chi-square statistic = {chi2_stat}\")\n",
    "print(f\"P-value = {p_val}\")\n",
    "print(f\"Degrees of freedom = {dof}\")\n",
    "print(f\"Expected values = \\n{ex}\")"
   ]
  },
  {
   "attachments": {},
   "cell_type": "markdown",
   "metadata": {},
   "source": [
    "#### Inference\n",
    "\n",
    "The first value (1068.2871265667493) is the Chi-square statistic, followed by the p-value (5.660675088788953e-230), then comes the degrees of freedom (4), and lastly it outputs the expected frequencies as an array. Since all of the expected frequencies are greater than 5, the chi2 test results can be trusted. \n",
    "\n",
    "We can reject the null hypothesis as the p-value is less than 0.05. Thus, the results indicate that there is a relationship between parent's perception of child's weight and the BMI category of the child."
   ]
  }
 ],
 "metadata": {
  "kernelspec": {
   "display_name": "Python 3",
   "language": "python",
   "name": "python3"
  },
  "language_info": {
   "codemirror_mode": {
    "name": "ipython",
    "version": 3
   },
   "file_extension": ".py",
   "mimetype": "text/x-python",
   "name": "python",
   "nbconvert_exporter": "python",
   "pygments_lexer": "ipython3",
   "version": "3.9.16"
  },
  "orig_nbformat": 4
 },
 "nbformat": 4,
 "nbformat_minor": 2
}
