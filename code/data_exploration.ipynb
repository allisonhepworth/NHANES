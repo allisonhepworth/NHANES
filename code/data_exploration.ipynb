{
 "cells": [
  {
   "cell_type": "code",
   "execution_count": 2,
   "metadata": {},
   "outputs": [],
   "source": [
    "import pandas as pd\n",
    "import seaborn as sns\n",
    "import duckdb as db\n",
    "import matplotlib.pyplot as plt"
   ]
  },
  {
   "cell_type": "code",
   "execution_count": 6,
   "metadata": {},
   "outputs": [],
   "source": [
    "df1 = pd.read_sas(\n",
    "    '/Users/soumyadeepray/Library/Mobile Documents/com~apple~CloudDocs/Documents/Research_Project-Nutrition_Sciences/NHANES/data/P_DR1IFF.XPT')"
   ]
  },
  {
   "cell_type": "code",
   "execution_count": 7,
   "metadata": {},
   "outputs": [],
   "source": [
    "df2 = pd.read_sas(\n",
    "    '/Users/soumyadeepray/Library/Mobile Documents/com~apple~CloudDocs/Documents/Research_Project-Nutrition_Sciences/NHANES/data/P_DR2IFF.XPT')"
   ]
  },
  {
   "cell_type": "code",
   "execution_count": 8,
   "metadata": {},
   "outputs": [
    {
     "data": {
      "text/plain": [
       "Index(['SEQN', 'WTDRD1PP', 'WTDR2DPP', 'DR1ILINE', 'DR1DRSTZ', 'DR1EXMER',\n",
       "       'DRABF', 'DRDINT', 'DR1DBIH', 'DR1DAY', 'DR1LANG', 'DR1CCMNM',\n",
       "       'DR1CCMTX', 'DR1_020', 'DR1_030Z', 'DR1FS', 'DR1_040Z', 'DR1IFDCD',\n",
       "       'DR1IGRMS', 'DR1IKCAL', 'DR1IPROT', 'DR1ICARB', 'DR1ISUGR', 'DR1IFIBE',\n",
       "       'DR1ITFAT', 'DR1ISFAT', 'DR1IMFAT', 'DR1IPFAT', 'DR1ICHOL', 'DR1IATOC',\n",
       "       'DR1IATOA', 'DR1IRET', 'DR1IVARA', 'DR1IACAR', 'DR1IBCAR', 'DR1ICRYP',\n",
       "       'DR1ILYCO', 'DR1ILZ', 'DR1IVB1', 'DR1IVB2', 'DR1INIAC', 'DR1IVB6',\n",
       "       'DR1IFOLA', 'DR1IFA', 'DR1IFF', 'DR1IFDFE', 'DR1ICHL', 'DR1IVB12',\n",
       "       'DR1IB12A', 'DR1IVC', 'DR1IVD', 'DR1IVK', 'DR1ICALC', 'DR1IPHOS',\n",
       "       'DR1IMAGN', 'DR1IIRON', 'DR1IZINC', 'DR1ICOPP', 'DR1ISODI', 'DR1IPOTA',\n",
       "       'DR1ISELE', 'DR1ICAFF', 'DR1ITHEO', 'DR1IALCO', 'DR1IMOIS', 'DR1IS040',\n",
       "       'DR1IS060', 'DR1IS080', 'DR1IS100', 'DR1IS120', 'DR1IS140', 'DR1IS160',\n",
       "       'DR1IS180', 'DR1IM161', 'DR1IM181', 'DR1IM201', 'DR1IM221', 'DR1IP182',\n",
       "       'DR1IP183', 'DR1IP184', 'DR1IP204', 'DR1IP205', 'DR1IP225', 'DR1IP226'],\n",
       "      dtype='object')"
      ]
     },
     "execution_count": 8,
     "metadata": {},
     "output_type": "execute_result"
    }
   ],
   "source": [
    "df1_cols = df1.columns\n",
    "df1_cols"
   ]
  },
  {
   "cell_type": "code",
   "execution_count": 9,
   "metadata": {},
   "outputs": [
    {
     "data": {
      "text/plain": [
       "Index(['SEQN', 'WTDRD1PP', 'WTDR2DPP', 'DR2ILINE', 'DR2DRSTZ', 'DR2EXMER',\n",
       "       'DRABF', 'DRDINT', 'DR2DBIH', 'DR2DAY', 'DR2LANG', 'DR2CCMNM',\n",
       "       'DR2CCMTX', 'DR2_020', 'DR2_030Z', 'DR2FS', 'DR2_040Z', 'DR2IFDCD',\n",
       "       'DR2IGRMS', 'DR2IKCAL', 'DR2IPROT', 'DR2ICARB', 'DR2ISUGR', 'DR2IFIBE',\n",
       "       'DR2ITFAT', 'DR2ISFAT', 'DR2IMFAT', 'DR2IPFAT', 'DR2ICHOL', 'DR2IATOC',\n",
       "       'DR2IATOA', 'DR2IRET', 'DR2IVARA', 'DR2IACAR', 'DR2IBCAR', 'DR2ICRYP',\n",
       "       'DR2ILYCO', 'DR2ILZ', 'DR2IVB1', 'DR2IVB2', 'DR2INIAC', 'DR2IVB6',\n",
       "       'DR2IFOLA', 'DR2IFA', 'DR2IFF', 'DR2IFDFE', 'DR2ICHL', 'DR2IVB12',\n",
       "       'DR2IB12A', 'DR2IVC', 'DR2IVD', 'DR2IVK', 'DR2ICALC', 'DR2IPHOS',\n",
       "       'DR2IMAGN', 'DR2IIRON', 'DR2IZINC', 'DR2ICOPP', 'DR2ISODI', 'DR2IPOTA',\n",
       "       'DR2ISELE', 'DR2ICAFF', 'DR2ITHEO', 'DR2IALCO', 'DR2IMOIS', 'DR2IS040',\n",
       "       'DR2IS060', 'DR2IS080', 'DR2IS100', 'DR2IS120', 'DR2IS140', 'DR2IS160',\n",
       "       'DR2IS180', 'DR2IM161', 'DR2IM181', 'DR2IM201', 'DR2IM221', 'DR2IP182',\n",
       "       'DR2IP183', 'DR2IP184', 'DR2IP204', 'DR2IP205', 'DR2IP225', 'DR2IP226'],\n",
       "      dtype='object')"
      ]
     },
     "execution_count": 9,
     "metadata": {},
     "output_type": "execute_result"
    }
   ],
   "source": [
    "df2_cols = df2.columns\n",
    "df2_cols"
   ]
  },
  {
   "cell_type": "code",
   "execution_count": 10,
   "metadata": {},
   "outputs": [
    {
     "data": {
      "text/plain": [
       "array([ True,  True,  True, False, False, False,  True,  True, False,\n",
       "       False, False, False, False, False, False, False, False, False,\n",
       "       False, False, False, False, False, False, False, False, False,\n",
       "       False, False, False, False, False, False, False, False, False,\n",
       "       False, False, False, False, False, False, False, False, False,\n",
       "       False, False, False, False, False, False, False, False, False,\n",
       "       False, False, False, False, False, False, False, False, False,\n",
       "       False, False, False, False, False, False, False, False, False,\n",
       "       False, False, False, False, False, False, False, False, False,\n",
       "       False, False, False])"
      ]
     },
     "execution_count": 10,
     "metadata": {},
     "output_type": "execute_result"
    }
   ],
   "source": [
    "df1_cols == df2_cols"
   ]
  },
  {
   "attachments": {},
   "cell_type": "markdown",
   "metadata": {},
   "source": [
    "Removing the rows with missing values i.e. when DR1_030Z = 99.0"
   ]
  },
  {
   "cell_type": "code",
   "execution_count": 11,
   "metadata": {},
   "outputs": [],
   "source": [
    "df1 = df1[df1.DR1_030Z != 99.0]"
   ]
  },
  {
   "attachments": {},
   "cell_type": "markdown",
   "metadata": {},
   "source": [
    "#### Merging the similar columns together"
   ]
  },
  {
   "cell_type": "code",
   "execution_count": 13,
   "metadata": {},
   "outputs": [],
   "source": [
    "df1['DR1_030Z'] = df1['DR1_030Z'].replace(\n",
    "    {10.0: 1.0, 11.0: 2.0, 13.0: 6.0, 14.0: 3.0, 16.0: 6.0, 18.0: 6.0, 19.0: 7.0})"
   ]
  },
  {
   "attachments": {},
   "cell_type": "markdown",
   "metadata": {},
   "source": [
    "### Using duckdb SQL to find the distinct eating occasions per SEQN"
   ]
  },
  {
   "cell_type": "code",
   "execution_count": 14,
   "metadata": {},
   "outputs": [],
   "source": [
    "q1_1 = db.sql('select distinct SEQN, DR1_030Z from df1').df()"
   ]
  },
  {
   "cell_type": "code",
   "execution_count": 15,
   "metadata": {},
   "outputs": [],
   "source": [
    "q1_1['Eating_Occasion'] = q1_1['DR1_030Z'].map({1.0: 'Breakfast',\n",
    "                                                2.0: 'Lunch',\n",
    "                                                3.0: 'Dinner',\n",
    "                                                4.0: 'Supper',\n",
    "                                                5.0: 'Brunch',\n",
    "                                                6.0: 'Snack',\n",
    "                                                7.0: 'Drink',\n",
    "                                                8.0: 'Infant feeding',\n",
    "                                                9.0: 'Extended consumption',\n",
    "                                                12.0: 'Comida',\n",
    "                                                15.0: 'Entre comida',\n",
    "                                                17.0: 'Bocadillo'})\n"
   ]
  },
  {
   "cell_type": "code",
   "execution_count": 16,
   "metadata": {},
   "outputs": [
    {
     "data": {
      "text/html": [
       "<div>\n",
       "<style scoped>\n",
       "    .dataframe tbody tr th:only-of-type {\n",
       "        vertical-align: middle;\n",
       "    }\n",
       "\n",
       "    .dataframe tbody tr th {\n",
       "        vertical-align: top;\n",
       "    }\n",
       "\n",
       "    .dataframe thead th {\n",
       "        text-align: right;\n",
       "    }\n",
       "</style>\n",
       "<table border=\"1\" class=\"dataframe\">\n",
       "  <thead>\n",
       "    <tr style=\"text-align: right;\">\n",
       "      <th></th>\n",
       "      <th>SEQN</th>\n",
       "      <th>DR1_030Z</th>\n",
       "      <th>Eating_Occasion</th>\n",
       "    </tr>\n",
       "  </thead>\n",
       "  <tbody>\n",
       "    <tr>\n",
       "      <th>0</th>\n",
       "      <td>109263.0</td>\n",
       "      <td>2.0</td>\n",
       "      <td>Lunch</td>\n",
       "    </tr>\n",
       "    <tr>\n",
       "      <th>1</th>\n",
       "      <td>109264.0</td>\n",
       "      <td>2.0</td>\n",
       "      <td>Lunch</td>\n",
       "    </tr>\n",
       "    <tr>\n",
       "      <th>2</th>\n",
       "      <td>109264.0</td>\n",
       "      <td>7.0</td>\n",
       "      <td>Drink</td>\n",
       "    </tr>\n",
       "    <tr>\n",
       "      <th>3</th>\n",
       "      <td>109265.0</td>\n",
       "      <td>6.0</td>\n",
       "      <td>Snack</td>\n",
       "    </tr>\n",
       "    <tr>\n",
       "      <th>4</th>\n",
       "      <td>109270.0</td>\n",
       "      <td>1.0</td>\n",
       "      <td>Breakfast</td>\n",
       "    </tr>\n",
       "    <tr>\n",
       "      <th>...</th>\n",
       "      <td>...</td>\n",
       "      <td>...</td>\n",
       "      <td>...</td>\n",
       "    </tr>\n",
       "    <tr>\n",
       "      <th>51358</th>\n",
       "      <td>123790.0</td>\n",
       "      <td>2.0</td>\n",
       "      <td>Lunch</td>\n",
       "    </tr>\n",
       "    <tr>\n",
       "      <th>51359</th>\n",
       "      <td>123880.0</td>\n",
       "      <td>6.0</td>\n",
       "      <td>Snack</td>\n",
       "    </tr>\n",
       "    <tr>\n",
       "      <th>51360</th>\n",
       "      <td>123823.0</td>\n",
       "      <td>3.0</td>\n",
       "      <td>Dinner</td>\n",
       "    </tr>\n",
       "    <tr>\n",
       "      <th>51361</th>\n",
       "      <td>124422.0</td>\n",
       "      <td>1.0</td>\n",
       "      <td>Breakfast</td>\n",
       "    </tr>\n",
       "    <tr>\n",
       "      <th>51362</th>\n",
       "      <td>124306.0</td>\n",
       "      <td>2.0</td>\n",
       "      <td>Lunch</td>\n",
       "    </tr>\n",
       "  </tbody>\n",
       "</table>\n",
       "<p>51363 rows × 3 columns</p>\n",
       "</div>"
      ],
      "text/plain": [
       "           SEQN  DR1_030Z Eating_Occasion\n",
       "0      109263.0       2.0           Lunch\n",
       "1      109264.0       2.0           Lunch\n",
       "2      109264.0       7.0           Drink\n",
       "3      109265.0       6.0           Snack\n",
       "4      109270.0       1.0       Breakfast\n",
       "...         ...       ...             ...\n",
       "51358  123790.0       2.0           Lunch\n",
       "51359  123880.0       6.0           Snack\n",
       "51360  123823.0       3.0          Dinner\n",
       "51361  124422.0       1.0       Breakfast\n",
       "51362  124306.0       2.0           Lunch\n",
       "\n",
       "[51363 rows x 3 columns]"
      ]
     },
     "execution_count": 16,
     "metadata": {},
     "output_type": "execute_result"
    }
   ],
   "source": [
    "q1_1\n"
   ]
  },
  {
   "attachments": {},
   "cell_type": "markdown",
   "metadata": {},
   "source": [
    "__Distribution of frequencies of eating occasions__"
   ]
  },
  {
   "cell_type": "code",
   "execution_count": 17,
   "metadata": {},
   "outputs": [
    {
     "data": {
      "image/png": "[encoded data removed]",
      "text/plain": [
       "<Figure size 1080x576 with 1 Axes>"
      ]
     },
     "metadata": {
      "needs_background": "light"
     },
     "output_type": "display_data"
    }
   ],
   "source": [
    "plt.figure(figsize=(15, 8))\n",
    "hist = sns.countplot(data=q1_1, y=\"Eating_Occasion\", order=q1_1['Eating_Occasion'].value_counts(\n",
    ").index).set_title(\"Frequency Distribution of Eating Occassions\")\n",
    "plt.show()\n"
   ]
  },
  {
   "cell_type": "code",
   "execution_count": 18,
   "metadata": {},
   "outputs": [
    {
     "data": {
      "text/plain": [
       "3.0     41852\n",
       "2.0     37994\n",
       "1.0     36197\n",
       "6.0     32512\n",
       "7.0     11703\n",
       "4.0      9765\n",
       "8.0      4383\n",
       "9.0      4077\n",
       "12.0     2203\n",
       "5.0      2080\n",
       "17.0      632\n",
       "15.0      510\n",
       "Name: DR1_030Z, dtype: int64"
      ]
     },
     "execution_count": 18,
     "metadata": {},
     "output_type": "execute_result"
    }
   ],
   "source": [
    "df1['DR1_030Z'].value_counts()\n"
   ]
  },
  {
   "cell_type": "code",
   "execution_count": 19,
   "metadata": {},
   "outputs": [
    {
     "data": {
      "text/plain": [
       "12632"
      ]
     },
     "execution_count": 19,
     "metadata": {},
     "output_type": "execute_result"
    }
   ],
   "source": [
    "df1.SEQN.unique().size\n"
   ]
  },
  {
   "attachments": {},
   "cell_type": "markdown",
   "metadata": {},
   "source": [
    "Finding the total energy (in Kcal) for different food occassions"
   ]
  },
  {
   "cell_type": "code",
   "execution_count": 20,
   "metadata": {},
   "outputs": [
    {
     "data": {
      "text/html": [
       "<div>\n",
       "<style scoped>\n",
       "    .dataframe tbody tr th:only-of-type {\n",
       "        vertical-align: middle;\n",
       "    }\n",
       "\n",
       "    .dataframe tbody tr th {\n",
       "        vertical-align: top;\n",
       "    }\n",
       "\n",
       "    .dataframe thead th {\n",
       "        text-align: right;\n",
       "    }\n",
       "</style>\n",
       "<table border=\"1\" class=\"dataframe\">\n",
       "  <thead>\n",
       "    <tr style=\"text-align: right;\">\n",
       "      <th></th>\n",
       "      <th>SEQN</th>\n",
       "      <th>DR1_030Z</th>\n",
       "      <th>Eating_Occasion</th>\n",
       "      <th>Total_Calories</th>\n",
       "    </tr>\n",
       "  </thead>\n",
       "  <tbody>\n",
       "    <tr>\n",
       "      <th>0</th>\n",
       "      <td>109263.0</td>\n",
       "      <td>1.0</td>\n",
       "      <td>Breakfast</td>\n",
       "      <td>1.870000e+02</td>\n",
       "    </tr>\n",
       "    <tr>\n",
       "      <th>1</th>\n",
       "      <td>109263.0</td>\n",
       "      <td>3.0</td>\n",
       "      <td>Dinner</td>\n",
       "      <td>2.880000e+02</td>\n",
       "    </tr>\n",
       "    <tr>\n",
       "      <th>2</th>\n",
       "      <td>109263.0</td>\n",
       "      <td>6.0</td>\n",
       "      <td>Snack</td>\n",
       "      <td>2.940000e+02</td>\n",
       "    </tr>\n",
       "    <tr>\n",
       "      <th>3</th>\n",
       "      <td>109263.0</td>\n",
       "      <td>9.0</td>\n",
       "      <td>Extended consumption</td>\n",
       "      <td>5.397605e-79</td>\n",
       "    </tr>\n",
       "    <tr>\n",
       "      <th>4</th>\n",
       "      <td>109263.0</td>\n",
       "      <td>2.0</td>\n",
       "      <td>Lunch</td>\n",
       "      <td>6.330000e+02</td>\n",
       "    </tr>\n",
       "    <tr>\n",
       "      <th>...</th>\n",
       "      <td>...</td>\n",
       "      <td>...</td>\n",
       "      <td>...</td>\n",
       "      <td>...</td>\n",
       "    </tr>\n",
       "    <tr>\n",
       "      <th>51358</th>\n",
       "      <td>124820.0</td>\n",
       "      <td>3.0</td>\n",
       "      <td>Dinner</td>\n",
       "      <td>5.440000e+02</td>\n",
       "    </tr>\n",
       "    <tr>\n",
       "      <th>51359</th>\n",
       "      <td>124821.0</td>\n",
       "      <td>4.0</td>\n",
       "      <td>Supper</td>\n",
       "      <td>1.231000e+03</td>\n",
       "    </tr>\n",
       "    <tr>\n",
       "      <th>51360</th>\n",
       "      <td>124821.0</td>\n",
       "      <td>6.0</td>\n",
       "      <td>Snack</td>\n",
       "      <td>1.660000e+02</td>\n",
       "    </tr>\n",
       "    <tr>\n",
       "      <th>51361</th>\n",
       "      <td>124821.0</td>\n",
       "      <td>7.0</td>\n",
       "      <td>Drink</td>\n",
       "      <td>5.397605e-79</td>\n",
       "    </tr>\n",
       "    <tr>\n",
       "      <th>51362</th>\n",
       "      <td>124821.0</td>\n",
       "      <td>5.0</td>\n",
       "      <td>Brunch</td>\n",
       "      <td>3.010000e+02</td>\n",
       "    </tr>\n",
       "  </tbody>\n",
       "</table>\n",
       "<p>51363 rows × 4 columns</p>\n",
       "</div>"
      ],
      "text/plain": [
       "           SEQN  DR1_030Z       Eating_Occasion  Total_Calories\n",
       "0      109263.0       1.0             Breakfast    1.870000e+02\n",
       "1      109263.0       3.0                Dinner    2.880000e+02\n",
       "2      109263.0       6.0                 Snack    2.940000e+02\n",
       "3      109263.0       9.0  Extended consumption    5.397605e-79\n",
       "4      109263.0       2.0                 Lunch    6.330000e+02\n",
       "...         ...       ...                   ...             ...\n",
       "51358  124820.0       3.0                Dinner    5.440000e+02\n",
       "51359  124821.0       4.0                Supper    1.231000e+03\n",
       "51360  124821.0       6.0                 Snack    1.660000e+02\n",
       "51361  124821.0       7.0                 Drink    5.397605e-79\n",
       "51362  124821.0       5.0                Brunch    3.010000e+02\n",
       "\n",
       "[51363 rows x 4 columns]"
      ]
     },
     "execution_count": 20,
     "metadata": {},
     "output_type": "execute_result"
    }
   ],
   "source": [
    "q1_2 = db.sql(\"select d.SEQN, q.DR1_030Z, q.Eating_Occasion, SUM(d.DR1IKCAL) as Total_Calories from df1 d join q1_1 q on d.SEQN = q.SEQN and d.DR1_030Z = q.DR1_030Z group by d.SEQN, q.DR1_030Z, q.Eating_Occasion order by d.SEQN\").df()\n",
    "q1_2"
   ]
  },
  {
   "attachments": {},
   "cell_type": "markdown",
   "metadata": {},
   "source": [
    "__Distribution of total calories of each eating occasion__"
   ]
  },
  {
   "cell_type": "code",
   "execution_count": 21,
   "metadata": {},
   "outputs": [
    {
     "data": {
      "image/png": "[encoded data removed]",
      "text/plain": [
       "<Figure size 1224x576 with 1 Axes>"
      ]
     },
     "metadata": {
      "needs_background": "light"
     },
     "output_type": "display_data"
    }
   ],
   "source": [
    "plt.figure(figsize=(17, 8))\n",
    "box_p = sns.boxplot(data=q1_2, x=\"Eating_Occasion\", y=\"Total_Calories\").set_title(\n",
    "    \"Energy Consumption vs Eating Occassion\")\n",
    "#bar.set_xticklabels(\"Eating Occasions\")\n",
    "plt.show()"
   ]
  },
  {
   "attachments": {},
   "cell_type": "markdown",
   "metadata": {},
   "source": [
    "### What is the maximum calories consumed for each of the eating occasions?"
   ]
  },
  {
   "cell_type": "code",
   "execution_count": 23,
   "metadata": {},
   "outputs": [
    {
     "data": {
      "text/plain": [
       "┌──────────┬───────────────────────┐\n",
       "│ DR1_030Z │ max(\"Total_Calories\") │\n",
       "│  double  │        double         │\n",
       "├──────────┼───────────────────────┤\n",
       "│      1.0 │                3825.0 │\n",
       "│      3.0 │                6275.0 │\n",
       "│      6.0 │                7937.0 │\n",
       "│      9.0 │               10742.0 │\n",
       "│      2.0 │                5926.0 │\n",
       "│      7.0 │                2611.0 │\n",
       "│      5.0 │                3045.0 │\n",
       "│      4.0 │                5454.0 │\n",
       "│      8.0 │                2640.0 │\n",
       "│     17.0 │                2657.0 │\n",
       "│     15.0 │                2161.0 │\n",
       "│     12.0 │                2372.0 │\n",
       "├──────────┴───────────────────────┤\n",
       "│ 12 rows                2 columns │\n",
       "└──────────────────────────────────┘"
      ]
     },
     "execution_count": 23,
     "metadata": {},
     "output_type": "execute_result"
    }
   ],
   "source": [
    "db.sql(\"select DR1_030Z,max(Total_Calories) from q1_2 group by DR1_030Z\")"
   ]
  },
  {
   "attachments": {},
   "cell_type": "markdown",
   "metadata": {},
   "source": [
    "#### What's the Average Energy consumed per eating occassion by Respondents?\n",
    "\n",
    "Before evaluating, we have to remove the outliers.\n",
    "We can remove the maximum total Calories intake of one meal greater than 3000 Kcal."
   ]
  },
  {
   "cell_type": "code",
   "execution_count": 24,
   "metadata": {},
   "outputs": [
    {
     "data": {
      "text/html": [
       "<div>\n",
       "<style scoped>\n",
       "    .dataframe tbody tr th:only-of-type {\n",
       "        vertical-align: middle;\n",
       "    }\n",
       "\n",
       "    .dataframe tbody tr th {\n",
       "        vertical-align: top;\n",
       "    }\n",
       "\n",
       "    .dataframe thead th {\n",
       "        text-align: right;\n",
       "    }\n",
       "</style>\n",
       "<table border=\"1\" class=\"dataframe\">\n",
       "  <thead>\n",
       "    <tr style=\"text-align: right;\">\n",
       "      <th></th>\n",
       "      <th>DR1_030Z</th>\n",
       "      <th>Average_Kcal</th>\n",
       "    </tr>\n",
       "  </thead>\n",
       "  <tbody>\n",
       "    <tr>\n",
       "      <th>0</th>\n",
       "      <td>3.0</td>\n",
       "      <td>727.129588</td>\n",
       "    </tr>\n",
       "    <tr>\n",
       "      <th>1</th>\n",
       "      <td>4.0</td>\n",
       "      <td>714.762402</td>\n",
       "    </tr>\n",
       "    <tr>\n",
       "      <th>2</th>\n",
       "      <td>12.0</td>\n",
       "      <td>694.123772</td>\n",
       "    </tr>\n",
       "    <tr>\n",
       "      <th>3</th>\n",
       "      <td>2.0</td>\n",
       "      <td>594.157786</td>\n",
       "    </tr>\n",
       "    <tr>\n",
       "      <th>4</th>\n",
       "      <td>8.0</td>\n",
       "      <td>516.366228</td>\n",
       "    </tr>\n",
       "    <tr>\n",
       "      <th>5</th>\n",
       "      <td>5.0</td>\n",
       "      <td>507.015823</td>\n",
       "    </tr>\n",
       "    <tr>\n",
       "      <th>6</th>\n",
       "      <td>6.0</td>\n",
       "      <td>465.271494</td>\n",
       "    </tr>\n",
       "    <tr>\n",
       "      <th>7</th>\n",
       "      <td>1.0</td>\n",
       "      <td>419.752422</td>\n",
       "    </tr>\n",
       "    <tr>\n",
       "      <th>8</th>\n",
       "      <td>17.0</td>\n",
       "      <td>307.157088</td>\n",
       "    </tr>\n",
       "    <tr>\n",
       "      <th>9</th>\n",
       "      <td>15.0</td>\n",
       "      <td>278.923077</td>\n",
       "    </tr>\n",
       "    <tr>\n",
       "      <th>10</th>\n",
       "      <td>7.0</td>\n",
       "      <td>128.131827</td>\n",
       "    </tr>\n",
       "    <tr>\n",
       "      <th>11</th>\n",
       "      <td>9.0</td>\n",
       "      <td>82.809967</td>\n",
       "    </tr>\n",
       "  </tbody>\n",
       "</table>\n",
       "</div>"
      ],
      "text/plain": [
       "    DR1_030Z  Average_Kcal\n",
       "0        3.0    727.129588\n",
       "1        4.0    714.762402\n",
       "2       12.0    694.123772\n",
       "3        2.0    594.157786\n",
       "4        8.0    516.366228\n",
       "5        5.0    507.015823\n",
       "6        6.0    465.271494\n",
       "7        1.0    419.752422\n",
       "8       17.0    307.157088\n",
       "9       15.0    278.923077\n",
       "10       7.0    128.131827\n",
       "11       9.0     82.809967"
      ]
     },
     "execution_count": 24,
     "metadata": {},
     "output_type": "execute_result"
    }
   ],
   "source": [
    "q1_3 = db.sql(\"select DR1_030Z, AVG(Total_Calories) as Average_Kcal from q1_2  where Total_Calories < 3000  group by DR1_030Z order by Average_Kcal desc\").df()\n",
    "q1_3"
   ]
  },
  {
   "attachments": {},
   "cell_type": "markdown",
   "metadata": {},
   "source": [
    "Infant Feeding occassion has a lot null values"
   ]
  },
  {
   "cell_type": "code",
   "execution_count": 26,
   "metadata": {},
   "outputs": [
    {
     "data": {
      "text/plain": [
       "┌──────────┬──────────┬─────────────────┬────────────────┐\n",
       "│   SEQN   │ DR1_030Z │ Eating_Occasion │ Total_Calories │\n",
       "│  double  │  double  │     varchar     │     double     │\n",
       "├──────────┼──────────┼─────────────────┼────────────────┤\n",
       "│ 109357.0 │      8.0 │ Infant feeding  │           NULL │\n",
       "│ 109462.0 │      8.0 │ Infant feeding  │           NULL │\n",
       "│ 109487.0 │      8.0 │ Infant feeding  │           NULL │\n",
       "│ 109605.0 │      8.0 │ Infant feeding  │           NULL │\n",
       "│ 109660.0 │      8.0 │ Infant feeding  │           NULL │\n",
       "│ 109680.0 │      8.0 │ Infant feeding  │           NULL │\n",
       "│ 109736.0 │      8.0 │ Infant feeding  │           NULL │\n",
       "│ 109737.0 │      8.0 │ Infant feeding  │           NULL │\n",
       "│ 109870.0 │      8.0 │ Infant feeding  │           NULL │\n",
       "│ 109967.0 │      7.0 │ Drink           │           NULL │\n",
       "│     ·    │       ·  │   ·             │             ·  │\n",
       "│     ·    │       ·  │   ·             │             ·  │\n",
       "│     ·    │       ·  │   ·             │             ·  │\n",
       "│ 124001.0 │      8.0 │ Infant feeding  │           NULL │\n",
       "│ 124055.0 │      8.0 │ Infant feeding  │           NULL │\n",
       "│ 124487.0 │      8.0 │ Infant feeding  │           NULL │\n",
       "│ 124545.0 │      7.0 │ Drink           │           NULL │\n",
       "│ 124550.0 │      8.0 │ Infant feeding  │           NULL │\n",
       "│ 124640.0 │      8.0 │ Infant feeding  │           NULL │\n",
       "│ 124659.0 │      8.0 │ Infant feeding  │           NULL │\n",
       "│ 124695.0 │      8.0 │ Infant feeding  │           NULL │\n",
       "│ 124801.0 │      8.0 │ Infant feeding  │           NULL │\n",
       "│ 124816.0 │      8.0 │ Infant feeding  │           NULL │\n",
       "├──────────┴──────────┴─────────────────┴────────────────┤\n",
       "│ 138 rows (20 shown)                          4 columns │\n",
       "└────────────────────────────────────────────────────────┘"
      ]
     },
     "execution_count": 26,
     "metadata": {},
     "output_type": "execute_result"
    }
   ],
   "source": [
    "db.sql('select * from q1_2 where Total_Calories is null')\n"
   ]
  },
  {
   "attachments": {},
   "cell_type": "markdown",
   "metadata": {},
   "source": [
    "### Since Breakfast is the most common eating occassion, so let's study the different types of nutrients intake and their quantities"
   ]
  },
  {
   "attachments": {},
   "cell_type": "markdown",
   "metadata": {},
   "source": [
    "#### Protein Intake in Breakfast"
   ]
  },
  {
   "cell_type": "code",
   "execution_count": 27,
   "metadata": {},
   "outputs": [],
   "source": [
    "q1_4 = db.sql(\n",
    "    'select SUM(DR1IPROT) as Total_Protein_Intake from df1 where DR1_030Z = 1.0 and DR1IPROT is not null group by SEQN').df()"
   ]
  },
  {
   "cell_type": "code",
   "execution_count": 28,
   "metadata": {},
   "outputs": [
    {
     "data": {
      "image/png": "[encoded data removed]",
      "text/plain": [
       "<Figure size 576x576 with 1 Axes>"
      ]
     },
     "metadata": {
      "needs_background": "light"
     },
     "output_type": "display_data"
    }
   ],
   "source": [
    "plt.figure(figsize=(8, 8))\n",
    "hist = sns.histplot(data=q1_4, x=\"Total_Protein_Intake\", bins=5, binwidth=5).set_title(\n",
    "    \"Frequency Distribution of Protein Intake during breakfast\")\n",
    "plt.show()\n"
   ]
  },
  {
   "cell_type": "code",
   "execution_count": 29,
   "metadata": {},
   "outputs": [],
   "source": [
    "from scipy.stats import norm\n",
    "import statistics\n",
    "\n",
    "mean = statistics.mean(q1_4['Total_Protein_Intake'])\n",
    "median = statistics.median(q1_4['Total_Protein_Intake'])\n"
   ]
  },
  {
   "cell_type": "code",
   "execution_count": 32,
   "metadata": {},
   "outputs": [
    {
     "data": {
      "image/png": "[encoded data removed]",
      "text/plain": [
       "<Figure size 1080x576 with 1 Axes>"
      ]
     },
     "metadata": {
      "needs_background": "light"
     },
     "output_type": "display_data"
    }
   ],
   "source": [
    "plt.figure(figsize=(15, 8))\n",
    "plt.axvline(mean, color='red')\n",
    "plt.axvline(median, color='green')\n",
    "hist = sns.kdeplot(data=q1_4, x=\"Total_Protein_Intake\")\n",
    "plt.show()"
   ]
  },
  {
   "attachments": {},
   "cell_type": "markdown",
   "metadata": {},
   "source": [
    "Based on the figure, the graph has a right skewed distribution as the median is smaller than mean."
   ]
  },
  {
   "attachments": {},
   "cell_type": "markdown",
   "metadata": {},
   "source": [
    "#### Carbohydrate intake in Breakfast"
   ]
  },
  {
   "cell_type": "code",
   "execution_count": 33,
   "metadata": {},
   "outputs": [
    {
     "data": {
      "text/html": [
       "<div>\n",
       "<style scoped>\n",
       "    .dataframe tbody tr th:only-of-type {\n",
       "        vertical-align: middle;\n",
       "    }\n",
       "\n",
       "    .dataframe tbody tr th {\n",
       "        vertical-align: top;\n",
       "    }\n",
       "\n",
       "    .dataframe thead th {\n",
       "        text-align: right;\n",
       "    }\n",
       "</style>\n",
       "<table border=\"1\" class=\"dataframe\">\n",
       "  <thead>\n",
       "    <tr style=\"text-align: right;\">\n",
       "      <th></th>\n",
       "      <th>Total_Carb_Intake</th>\n",
       "    </tr>\n",
       "  </thead>\n",
       "  <tbody>\n",
       "    <tr>\n",
       "      <th>0</th>\n",
       "      <td>27.23</td>\n",
       "    </tr>\n",
       "    <tr>\n",
       "      <th>1</th>\n",
       "      <td>39.15</td>\n",
       "    </tr>\n",
       "    <tr>\n",
       "      <th>2</th>\n",
       "      <td>115.50</td>\n",
       "    </tr>\n",
       "    <tr>\n",
       "      <th>3</th>\n",
       "      <td>3.10</td>\n",
       "    </tr>\n",
       "    <tr>\n",
       "      <th>4</th>\n",
       "      <td>31.31</td>\n",
       "    </tr>\n",
       "    <tr>\n",
       "      <th>...</th>\n",
       "      <td>...</td>\n",
       "    </tr>\n",
       "    <tr>\n",
       "      <th>9909</th>\n",
       "      <td>28.89</td>\n",
       "    </tr>\n",
       "    <tr>\n",
       "      <th>9910</th>\n",
       "      <td>23.68</td>\n",
       "    </tr>\n",
       "    <tr>\n",
       "      <th>9911</th>\n",
       "      <td>43.92</td>\n",
       "    </tr>\n",
       "    <tr>\n",
       "      <th>9912</th>\n",
       "      <td>58.16</td>\n",
       "    </tr>\n",
       "    <tr>\n",
       "      <th>9913</th>\n",
       "      <td>33.59</td>\n",
       "    </tr>\n",
       "  </tbody>\n",
       "</table>\n",
       "<p>9914 rows × 1 columns</p>\n",
       "</div>"
      ],
      "text/plain": [
       "      Total_Carb_Intake\n",
       "0                 27.23\n",
       "1                 39.15\n",
       "2                115.50\n",
       "3                  3.10\n",
       "4                 31.31\n",
       "...                 ...\n",
       "9909              28.89\n",
       "9910              23.68\n",
       "9911              43.92\n",
       "9912              58.16\n",
       "9913              33.59\n",
       "\n",
       "[9914 rows x 1 columns]"
      ]
     },
     "execution_count": 33,
     "metadata": {},
     "output_type": "execute_result"
    }
   ],
   "source": [
    "q1_5 = db.sql(\n",
    "    'select SUM(DR1ICARB) as Total_Carb_Intake from df1 where DR1_030Z = 1.0 and DR1ICARB is not null group by SEQN').df()\n",
    "q1_5"
   ]
  },
  {
   "cell_type": "code",
   "execution_count": 57,
   "metadata": {},
   "outputs": [
    {
     "data": {
      "image/png": "[encoded data removed]",
      "text/plain": [
       "<Figure size 1080x576 with 1 Axes>"
      ]
     },
     "metadata": {
      "needs_background": "light"
     },
     "output_type": "display_data"
    }
   ],
   "source": [
    "plt.figure(figsize=(15, 8))\n",
    "hist = sns.histplot(data=q1_5, x=\"Total_Carb_Intake\", bins=5, binwidth=5, color=\"purple\").set_title(\n",
    "    \"Frequency Distribution of Carbohydrate Intake during breakfast\")\n",
    "plt.show()"
   ]
  },
  {
   "cell_type": "code",
   "execution_count": 58,
   "metadata": {},
   "outputs": [
    {
     "data": {
      "image/png": "[encoded data removed]",
      "text/plain": [
       "<Figure size 1080x576 with 1 Axes>"
      ]
     },
     "metadata": {
      "needs_background": "light"
     },
     "output_type": "display_data"
    }
   ],
   "source": [
    "plt.figure(figsize=(15, 8))\n",
    "plt.axvline(statistics.mean(q1_5['Total_Carb_Intake']), color='red')\n",
    "plt.axvline(statistics.median(q1_5['Total_Carb_Intake']), color='green')\n",
    "hist = sns.kdeplot(data=q1_5, x=\"Total_Carb_Intake\", color=\"purple\")\n",
    "plt.show()"
   ]
  },
  {
   "attachments": {},
   "cell_type": "markdown",
   "metadata": {},
   "source": [
    "#### Fat intake in Breakfast"
   ]
  },
  {
   "cell_type": "code",
   "execution_count": 43,
   "metadata": {},
   "outputs": [
    {
     "data": {
      "text/html": [
       "<div>\n",
       "<style scoped>\n",
       "    .dataframe tbody tr th:only-of-type {\n",
       "        vertical-align: middle;\n",
       "    }\n",
       "\n",
       "    .dataframe tbody tr th {\n",
       "        vertical-align: top;\n",
       "    }\n",
       "\n",
       "    .dataframe thead th {\n",
       "        text-align: right;\n",
       "    }\n",
       "</style>\n",
       "<table border=\"1\" class=\"dataframe\">\n",
       "  <thead>\n",
       "    <tr style=\"text-align: right;\">\n",
       "      <th></th>\n",
       "      <th>Total_Fat_Intake</th>\n",
       "    </tr>\n",
       "  </thead>\n",
       "  <tbody>\n",
       "    <tr>\n",
       "      <th>0</th>\n",
       "      <td>9.56</td>\n",
       "    </tr>\n",
       "    <tr>\n",
       "      <th>1</th>\n",
       "      <td>30.43</td>\n",
       "    </tr>\n",
       "    <tr>\n",
       "      <th>2</th>\n",
       "      <td>25.49</td>\n",
       "    </tr>\n",
       "    <tr>\n",
       "      <th>3</th>\n",
       "      <td>7.96</td>\n",
       "    </tr>\n",
       "    <tr>\n",
       "      <th>4</th>\n",
       "      <td>2.12</td>\n",
       "    </tr>\n",
       "    <tr>\n",
       "      <th>...</th>\n",
       "      <td>...</td>\n",
       "    </tr>\n",
       "    <tr>\n",
       "      <th>9909</th>\n",
       "      <td>33.54</td>\n",
       "    </tr>\n",
       "    <tr>\n",
       "      <th>9910</th>\n",
       "      <td>41.55</td>\n",
       "    </tr>\n",
       "    <tr>\n",
       "      <th>9911</th>\n",
       "      <td>3.74</td>\n",
       "    </tr>\n",
       "    <tr>\n",
       "      <th>9912</th>\n",
       "      <td>15.92</td>\n",
       "    </tr>\n",
       "    <tr>\n",
       "      <th>9913</th>\n",
       "      <td>0.42</td>\n",
       "    </tr>\n",
       "  </tbody>\n",
       "</table>\n",
       "<p>9914 rows × 1 columns</p>\n",
       "</div>"
      ],
      "text/plain": [
       "      Total_Fat_Intake\n",
       "0                 9.56\n",
       "1                30.43\n",
       "2                25.49\n",
       "3                 7.96\n",
       "4                 2.12\n",
       "...                ...\n",
       "9909             33.54\n",
       "9910             41.55\n",
       "9911              3.74\n",
       "9912             15.92\n",
       "9913              0.42\n",
       "\n",
       "[9914 rows x 1 columns]"
      ]
     },
     "execution_count": 43,
     "metadata": {},
     "output_type": "execute_result"
    }
   ],
   "source": [
    "q1_6 = db.sql(\n",
    "    'select SUM(DR1ITFAT) as Total_Fat_Intake from df1 where DR1_030Z = 1.0 and DR1ITFAT is not null group by SEQN').df()\n",
    "q1_6"
   ]
  },
  {
   "cell_type": "code",
   "execution_count": 53,
   "metadata": {},
   "outputs": [
    {
     "data": {
      "image/png": "[encoded data removed]",
      "text/plain": [
       "<Figure size 1080x576 with 1 Axes>"
      ]
     },
     "metadata": {
      "needs_background": "light"
     },
     "output_type": "display_data"
    }
   ],
   "source": [
    "plt.figure(figsize=(15, 8))\n",
    "hist = sns.histplot(data=q1_6, x=\"Total_Fat_Intake\", bins=5, binwidth=5, color=\"red\").set_title(\n",
    "    \"Frequency Distribution of Fat Intake during breakfast\")\n",
    "plt.show()"
   ]
  },
  {
   "attachments": {},
   "cell_type": "markdown",
   "metadata": {},
   "source": [
    "#### Sugar intake in Breakfast"
   ]
  },
  {
   "cell_type": "code",
   "execution_count": 49,
   "metadata": {},
   "outputs": [
    {
     "data": {
      "text/html": [
       "<div>\n",
       "<style scoped>\n",
       "    .dataframe tbody tr th:only-of-type {\n",
       "        vertical-align: middle;\n",
       "    }\n",
       "\n",
       "    .dataframe tbody tr th {\n",
       "        vertical-align: top;\n",
       "    }\n",
       "\n",
       "    .dataframe thead th {\n",
       "        text-align: right;\n",
       "    }\n",
       "</style>\n",
       "<table border=\"1\" class=\"dataframe\">\n",
       "  <thead>\n",
       "    <tr style=\"text-align: right;\">\n",
       "      <th></th>\n",
       "      <th>Total_Sugar_Intake</th>\n",
       "    </tr>\n",
       "  </thead>\n",
       "  <tbody>\n",
       "    <tr>\n",
       "      <th>0</th>\n",
       "      <td>28.77</td>\n",
       "    </tr>\n",
       "    <tr>\n",
       "      <th>1</th>\n",
       "      <td>35.73</td>\n",
       "    </tr>\n",
       "    <tr>\n",
       "      <th>2</th>\n",
       "      <td>38.35</td>\n",
       "    </tr>\n",
       "    <tr>\n",
       "      <th>3</th>\n",
       "      <td>50.31</td>\n",
       "    </tr>\n",
       "    <tr>\n",
       "      <th>4</th>\n",
       "      <td>0.57</td>\n",
       "    </tr>\n",
       "    <tr>\n",
       "      <th>...</th>\n",
       "      <td>...</td>\n",
       "    </tr>\n",
       "    <tr>\n",
       "      <th>9909</th>\n",
       "      <td>47.24</td>\n",
       "    </tr>\n",
       "    <tr>\n",
       "      <th>9910</th>\n",
       "      <td>7.87</td>\n",
       "    </tr>\n",
       "    <tr>\n",
       "      <th>9911</th>\n",
       "      <td>7.93</td>\n",
       "    </tr>\n",
       "    <tr>\n",
       "      <th>9912</th>\n",
       "      <td>37.31</td>\n",
       "    </tr>\n",
       "    <tr>\n",
       "      <th>9913</th>\n",
       "      <td>23.49</td>\n",
       "    </tr>\n",
       "  </tbody>\n",
       "</table>\n",
       "<p>9914 rows × 1 columns</p>\n",
       "</div>"
      ],
      "text/plain": [
       "      Total_Sugar_Intake\n",
       "0                  28.77\n",
       "1                  35.73\n",
       "2                  38.35\n",
       "3                  50.31\n",
       "4                   0.57\n",
       "...                  ...\n",
       "9909               47.24\n",
       "9910                7.87\n",
       "9911                7.93\n",
       "9912               37.31\n",
       "9913               23.49\n",
       "\n",
       "[9914 rows x 1 columns]"
      ]
     },
     "execution_count": 49,
     "metadata": {},
     "output_type": "execute_result"
    }
   ],
   "source": [
    "q1_7 = db.sql(\n",
    "    'select SUM(DR1ISUGR) as Total_Sugar_Intake from df1 where DR1_030Z = 1.0 and DR1ISUGR is not null group by SEQN').df()\n",
    "q1_7"
   ]
  },
  {
   "cell_type": "code",
   "execution_count": 52,
   "metadata": {},
   "outputs": [
    {
     "data": {
      "image/png": "[encoded data removed]",
      "text/plain": [
       "<Figure size 1080x576 with 1 Axes>"
      ]
     },
     "metadata": {
      "needs_background": "light"
     },
     "output_type": "display_data"
    }
   ],
   "source": [
    "plt.figure(figsize=(15, 8))\n",
    "hist = sns.histplot(data=q1_7, x=\"Total_Sugar_Intake\", bins=5, binwidth=10, color=\"orange\").set_title(\n",
    "    \"Frequency Distribution of Sugar Intake during breakfast\")\n",
    "plt.show()"
   ]
  },
  {
   "attachments": {},
   "cell_type": "markdown",
   "metadata": {},
   "source": [
    "## 2nd day dietary dataframe"
   ]
  },
  {
   "cell_type": "code",
   "execution_count": 36,
   "metadata": {},
   "outputs": [],
   "source": [
    "df2['DR2_030Z'] = df2['DR2_030Z'].replace(\n",
    "    {10.0: 1.0, 11.0: 2.0, 13.0: 6.0, 14.0: 3.0, 16.0: 6.0, 18.0: 6.0, 19.0: 7.0})"
   ]
  },
  {
   "cell_type": "code",
   "execution_count": 37,
   "metadata": {},
   "outputs": [],
   "source": [
    "df1 = df1[df1.DR1_030Z != 99.0]"
   ]
  },
  {
   "cell_type": "code",
   "execution_count": 38,
   "metadata": {},
   "outputs": [],
   "source": [
    "q2_1 = db.sql('select distinct SEQN, DR2_030Z from df2').df()"
   ]
  },
  {
   "cell_type": "code",
   "execution_count": 39,
   "metadata": {},
   "outputs": [],
   "source": [
    "q2_1['Eating_Occasion'] = q2_1['DR2_030Z'].map({1.0: 'Breakfast',\n",
    "                                                2.0: 'Lunch',\n",
    "                                                3.0: 'Dinner',\n",
    "                                                4.0: 'Supper',\n",
    "                                                5.0: 'Brunch',\n",
    "                                                6.0: 'Snack',\n",
    "                                                7.0: 'Drink',\n",
    "                                                8.0: 'Infant feeding',\n",
    "                                                9.0: 'Extended consumption',\n",
    "                                                12.0: 'Comida',\n",
    "                                                15.0: 'Entre comida',\n",
    "                                                17.0: 'Bocadillo'})\n"
   ]
  },
  {
   "cell_type": "code",
   "execution_count": 40,
   "metadata": {},
   "outputs": [
    {
     "data": {
      "image/png": "[encoded data removed]",
      "text/plain": [
       "<Figure size 1080x576 with 1 Axes>"
      ]
     },
     "metadata": {
      "needs_background": "light"
     },
     "output_type": "display_data"
    }
   ],
   "source": [
    "plt.figure(figsize=(15, 8))\n",
    "hist = sns.countplot(data=q2_1, y=\"Eating_Occasion\", order=q2_1['Eating_Occasion'].value_counts().index).set_title(\"Frequency Distribution of Eating Occassions\")\n",
    "plt.show()\n"
   ]
  },
  {
   "cell_type": "code",
   "execution_count": 41,
   "metadata": {},
   "outputs": [],
   "source": [
    "q2_2 = db.sql(\n",
    "    \"select SEQN, DR2_030Z, SUM(DR2IKCAL) as Total_Calories from df2 group by SEQN, DR2_030Z\").df()"
   ]
  },
  {
   "cell_type": "code",
   "execution_count": 42,
   "metadata": {},
   "outputs": [
    {
     "data": {
      "image/png": "[encoded data removed]",
      "text/plain": [
       "<Figure size 1080x576 with 1 Axes>"
      ]
     },
     "metadata": {
      "needs_background": "light"
     },
     "output_type": "display_data"
    }
   ],
   "source": [
    "plt.figure(figsize=(15, 8))\n",
    "box_p = sns.boxplot(data=q2_2, x=\"DR2_030Z\", y=\"Total_Calories\").set_title(\n",
    "    \"Energy Consumption vs Eating Occassion\")\n",
    "#bar.set_xticklabels(\"Eating Occasions\")\n",
    "plt.show()"
   ]
  },
  {
   "cell_type": "code",
   "execution_count": null,
   "metadata": {},
   "outputs": [],
   "source": [
    "concatenated = pd.concat([df1, df2])\n"
   ]
  }
 ],
 "metadata": {
  "kernelspec": {
   "display_name": "Python 3",
   "language": "python",
   "name": "python3"
  },
  "language_info": {
   "codemirror_mode": {
    "name": "ipython",
    "version": 3
   },
   "file_extension": ".py",
   "mimetype": "text/x-python",
   "name": "python",
   "nbconvert_exporter": "python",
   "pygments_lexer": "ipython3",
   "version": "3.9.16"
  },
  "orig_nbformat": 4,
  "vscode": {
   "interpreter": {
    "hash": "a665b5d41d17b532ea9890333293a1b812fa0b73c9c25c950b3cedf1bebd0438"
   }
  }
 },
 "nbformat": 4,
 "nbformat_minor": 2
}
